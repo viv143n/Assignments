{
 "cells": [
  {
   "cell_type": "markdown",
   "id": "ff6c70a3",
   "metadata": {},
   "source": [
    "### Q1. Find out the differentiation of the following"
   ]
  },
  {
   "cell_type": "code",
   "execution_count": 1,
   "id": "ebbf3c50",
   "metadata": {},
   "outputs": [],
   "source": [
    "#importing tensorflow\n",
    "import tensorflow as tf"
   ]
  },
  {
   "cell_type": "markdown",
   "id": "66debd4e",
   "metadata": {},
   "source": [
    "##### 1. Y = 5*x**2 + 6*x**4 for x = 0.5"
   ]
  },
  {
   "cell_type": "code",
   "execution_count": 2,
   "id": "7c5805fb",
   "metadata": {},
   "outputs": [
    {
     "name": "stdout",
     "output_type": "stream",
     "text": [
      "tf.Tensor(1.625, shape=(), dtype=float32)\n"
     ]
    }
   ],
   "source": [
    "x = tf.constant(0.5)\n",
    "with tf.GradientTape() as t:\n",
    "    t.watch(x)\n",
    "    y = 5*x**2 + 6*x**4\n",
    "    t.gradient(y,x)\n",
    "    print(y)"
   ]
  },
  {
   "cell_type": "markdown",
   "id": "1cf9622b",
   "metadata": {},
   "source": [
    "##### 2. Y = (1/23) * x**8 + 3*x**2 + 34 for x = 3.5"
   ]
  },
  {
   "cell_type": "code",
   "execution_count": 3,
   "id": "31b8a2cb",
   "metadata": {},
   "outputs": [
    {
     "name": "stdout",
     "output_type": "stream",
     "text": [
      "tf.Tensor(1049.8263, shape=(), dtype=float32)\n"
     ]
    }
   ],
   "source": [
    "x = tf.constant(3.5)\n",
    "with tf.GradientTape() as t:\n",
    "    t.watch(x)\n",
    "    y = (1/23) * x**8 + 3*x**2 + 34\n",
    "    t.gradient(y,x)\n",
    "    print(y)"
   ]
  },
  {
   "cell_type": "markdown",
   "id": "a627e17d",
   "metadata": {},
   "source": [
    "##### 3. Y = 45 + 34*x**2 + (1/2) *x for x = 2.8"
   ]
  },
  {
   "cell_type": "code",
   "execution_count": 4,
   "id": "0fbb7b32",
   "metadata": {},
   "outputs": [
    {
     "name": "stdout",
     "output_type": "stream",
     "text": [
      "tf.Tensor(312.96, shape=(), dtype=float32)\n"
     ]
    }
   ],
   "source": [
    "x = tf.constant(2.8)\n",
    "with tf.GradientTape() as t:\n",
    "    y = 45 + 34*x**2 + (1/2) *x\n",
    "    t.gradient(y,x)\n",
    "    print(y)"
   ]
  },
  {
   "cell_type": "markdown",
   "id": "70afbd0b",
   "metadata": {},
   "source": [
    "##### 4. Y = 34*x**12 + 23*x**4 + 4*x**4 + 2343 for x = 1.8"
   ]
  },
  {
   "cell_type": "code",
   "execution_count": 5,
   "id": "614eff1b",
   "metadata": {},
   "outputs": [
    {
     "name": "stdout",
     "output_type": "stream",
     "text": [
      "tf.Tensor(41958.695, shape=(), dtype=float32)\n"
     ]
    }
   ],
   "source": [
    "x = tf.constant(1.8)\n",
    "with tf.GradientTape() as t:\n",
    "    y=34*x**12 + 23*x**4 + 4*x**4 + 2343\n",
    "    t.gradient(y,x)\n",
    "    print(y)"
   ]
  },
  {
   "cell_type": "markdown",
   "id": "297be825",
   "metadata": {},
   "source": [
    "##### 5. Y = (0.4) *x**23 + 2*x**(0.5) + 34 for x = 1.7"
   ]
  },
  {
   "cell_type": "code",
   "execution_count": 6,
   "id": "dca8bf2c",
   "metadata": {},
   "outputs": [
    {
     "name": "stdout",
     "output_type": "stream",
     "text": [
      "tf.Tensor(79906.94, shape=(), dtype=float32)\n"
     ]
    }
   ],
   "source": [
    "x = tf.constant(1.7)\n",
    "with tf.GradientTape() as t:\n",
    "    y=(0.4) *x**23 + 2*x**(0.5) + 34\n",
    "    t.gradient(y,x)\n",
    "    print(y)"
   ]
  },
  {
   "cell_type": "markdown",
   "id": "ef254695",
   "metadata": {},
   "source": [
    "### Q2.Find out the multiplication of the following\n"
   ]
  },
  {
   "cell_type": "markdown",
   "id": "99fc711e",
   "metadata": {},
   "source": [
    "##### 1. A = 45, B = 34 and C = 12"
   ]
  },
  {
   "cell_type": "code",
   "execution_count": 7,
   "id": "1d213116",
   "metadata": {},
   "outputs": [
    {
     "data": {
      "text/plain": [
       "<tf.Tensor: shape=(), dtype=int32, numpy=18360>"
      ]
     },
     "execution_count": 7,
     "metadata": {},
     "output_type": "execute_result"
    }
   ],
   "source": [
    "A = tf.constant(45)\n",
    "B = tf.constant(34)\n",
    "C = tf.constant(12)\n",
    "A*B*C"
   ]
  },
  {
   "cell_type": "markdown",
   "id": "4486bc95",
   "metadata": {},
   "source": [
    "##### 2. C = 33, B = 12 and Z = 12"
   ]
  },
  {
   "cell_type": "code",
   "execution_count": 8,
   "id": "ac744799",
   "metadata": {},
   "outputs": [
    {
     "data": {
      "text/plain": [
       "<tf.Tensor: shape=(), dtype=int32, numpy=4752>"
      ]
     },
     "execution_count": 8,
     "metadata": {},
     "output_type": "execute_result"
    }
   ],
   "source": [
    "C = tf.constant(33)\n",
    "B = tf.constant(12)\n",
    "Z = tf.constant(12)\n",
    "C*B*Z"
   ]
  },
  {
   "cell_type": "markdown",
   "id": "bece10b8",
   "metadata": {},
   "source": [
    "### Q3.1 Create two random matrices with Normal distribution of length (3,4) and (4,3) and multiply the same.\n"
   ]
  },
  {
   "cell_type": "code",
   "execution_count": 9,
   "id": "8260f81f",
   "metadata": {},
   "outputs": [
    {
     "data": {
      "text/plain": [
       "(<tf.Tensor: shape=(3, 4), dtype=float32, numpy=\n",
       " array([[-0.49846202, -0.6672265 ,  0.69533354,  1.3602093 ],\n",
       "        [-1.2137905 , -0.10874313,  1.1887078 ,  0.20200083],\n",
       "        [-1.1280468 , -0.95292616,  0.36472958, -0.83636075]],\n",
       "       dtype=float32)>,\n",
       " <tf.Tensor: shape=(4, 3), dtype=float32, numpy=\n",
       " array([[ 1.7620598 ,  1.4057044 , -1.4478678 ],\n",
       "        [-1.3000592 , -0.5587838 , -0.805322  ],\n",
       "        [-1.0852822 ,  1.7328259 , -1.4044678 ],\n",
       "        [-0.43456018,  0.6589254 ,  1.1093004 ]], dtype=float32)>)"
      ]
     },
     "execution_count": 9,
     "metadata": {},
     "output_type": "execute_result"
    }
   ],
   "source": [
    "X = tf.random.normal((3,4))\n",
    "Y = tf.random.normal((4,3))\n",
    "X,Y"
   ]
  },
  {
   "cell_type": "code",
   "execution_count": 10,
   "id": "2a8f0a48",
   "metadata": {},
   "outputs": [
    {
     "data": {
      "text/plain": [
       "<tf.Tensor: shape=(3, 3), dtype=float32, numpy=\n",
       "array([[-1.356612  ,  1.7733135 ,  1.7913464 ],\n",
       "       [-3.375264  ,  0.54746044,  0.39955908],\n",
       "       [-0.7812109 , -0.9723071 ,  0.96064854]], dtype=float32)>"
      ]
     },
     "execution_count": 10,
     "metadata": {},
     "output_type": "execute_result"
    }
   ],
   "source": [
    "tf.matmul(X,Y)"
   ]
  },
  {
   "cell_type": "markdown",
   "id": "5a6948ab",
   "metadata": {},
   "source": [
    "### Q3.2 Dot Product: Create a random matrix with length (4,5) and multiply it with 5. (2 types)."
   ]
  },
  {
   "cell_type": "code",
   "execution_count": 11,
   "id": "25bb5cd1",
   "metadata": {},
   "outputs": [
    {
     "data": {
      "text/plain": [
       "<tf.Tensor: shape=(4, 5), dtype=float32, numpy=\n",
       "array([[0.6430154 , 0.14249778, 0.7611245 , 0.7855327 , 0.9200218 ],\n",
       "       [0.9549148 , 0.03170538, 0.79516494, 0.00499117, 0.78452706],\n",
       "       [0.89934707, 0.02479601, 0.7490182 , 0.2599553 , 0.5753714 ],\n",
       "       [0.5909822 , 0.8327813 , 0.13834822, 0.863978  , 0.6724932 ]],\n",
       "      dtype=float32)>"
      ]
     },
     "execution_count": 11,
     "metadata": {},
     "output_type": "execute_result"
    }
   ],
   "source": [
    "Z = tf.random.uniform((4,5))\n",
    "Z"
   ]
  },
  {
   "cell_type": "code",
   "execution_count": 12,
   "id": "43514238",
   "metadata": {},
   "outputs": [
    {
     "data": {
      "text/plain": [
       "<tf.Tensor: shape=(4, 5), dtype=float32, numpy=\n",
       "array([[3.215077  , 0.7124889 , 3.8056226 , 3.9276636 , 4.600109  ],\n",
       "       [4.7745743 , 0.1585269 , 3.9758248 , 0.02495587, 3.9226353 ],\n",
       "       [4.4967356 , 0.12398005, 3.745091  , 1.2997764 , 2.8768568 ],\n",
       "       [2.954911  , 4.1639066 , 0.6917411 , 4.31989   , 3.362466  ]],\n",
       "      dtype=float32)>"
      ]
     },
     "execution_count": 12,
     "metadata": {},
     "output_type": "execute_result"
    }
   ],
   "source": [
    "#1st method\n",
    "tf.constant(5.0)*Z"
   ]
  },
  {
   "cell_type": "code",
   "execution_count": 13,
   "id": "0cf7abb5",
   "metadata": {},
   "outputs": [
    {
     "data": {
      "text/plain": [
       "<tf.Tensor: shape=(4, 5), dtype=float32, numpy=\n",
       "array([[3.215077  , 0.7124889 , 3.8056226 , 3.9276636 , 4.600109  ],\n",
       "       [4.7745743 , 0.1585269 , 3.9758248 , 0.02495587, 3.9226353 ],\n",
       "       [4.4967356 , 0.12398005, 3.745091  , 1.2997764 , 2.8768568 ],\n",
       "       [2.954911  , 4.1639066 , 0.6917411 , 4.31989   , 3.362466  ]],\n",
       "      dtype=float32)>"
      ]
     },
     "execution_count": 13,
     "metadata": {},
     "output_type": "execute_result"
    }
   ],
   "source": [
    "#2nd method\n",
    "tf.tensordot(Z,tf.constant(5.0),axes=0)"
   ]
  },
  {
   "cell_type": "code",
   "execution_count": null,
   "id": "21065b26",
   "metadata": {},
   "outputs": [],
   "source": []
  }
 ],
 "metadata": {
  "kernelspec": {
   "display_name": "Python 3 (ipykernel)",
   "language": "python",
   "name": "python3"
  },
  "language_info": {
   "codemirror_mode": {
    "name": "ipython",
    "version": 3
   },
   "file_extension": ".py",
   "mimetype": "text/x-python",
   "name": "python",
   "nbconvert_exporter": "python",
   "pygments_lexer": "ipython3",
   "version": "3.9.7"
  }
 },
 "nbformat": 4,
 "nbformat_minor": 5
}
