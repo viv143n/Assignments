{
 "cells": [
  {
   "cell_type": "markdown",
   "id": "6982393b",
   "metadata": {},
   "source": [
    "## Assignment 3: Python basics"
   ]
  },
  {
   "cell_type": "markdown",
   "id": "4062bfaa",
   "metadata": {},
   "source": [
    "### 1. Why are functions advantageous to have in your programs?"
   ]
  },
  {
   "cell_type": "markdown",
   "id": "9a53404d",
   "metadata": {},
   "source": [
    "`Ans:-`\n",
    "* Function can make repetitive tasks easy.\n",
    "* Function makes programs easy to read."
   ]
  },
  {
   "cell_type": "markdown",
   "id": "ee18fa41",
   "metadata": {},
   "source": [
    "### 2. When does the code in a function run: when it's specified or when it's called?"
   ]
  },
  {
   "cell_type": "markdown",
   "id": "9178484f",
   "metadata": {},
   "source": [
    "`Ans:-`\n",
    "* When it is called."
   ]
  },
  {
   "cell_type": "markdown",
   "id": "0ff9188b",
   "metadata": {},
   "source": [
    "## 3. What statement creates a function ?"
   ]
  },
  {
   "cell_type": "markdown",
   "id": "d9e44705",
   "metadata": {},
   "source": [
    "`Ans:-`\n",
    "* def keyword creates a function"
   ]
  },
  {
   "cell_type": "markdown",
   "id": "4dc6874a",
   "metadata": {},
   "source": [
    "## 4. What is the difference between a function and a function call ?"
   ]
  },
  {
   "cell_type": "markdown",
   "id": "2a03d94f",
   "metadata": {},
   "source": [
    "`Ans:-`\n",
    "* Function is a set of codes,statements enclosed inside it for a specific task.\n",
    "* Function call is use to execute predifined function."
   ]
  },
  {
   "cell_type": "markdown",
   "id": "870107ca",
   "metadata": {},
   "source": [
    "## 5. How many global scopes are there in a Python program? How many local scopes?"
   ]
  },
  {
   "cell_type": "markdown",
   "id": "a17aa65a",
   "metadata": {},
   "source": [
    "`Ans:-`\n",
    "- There can be only one global scope but many local scopes."
   ]
  },
  {
   "cell_type": "markdown",
   "id": "93a8ee24",
   "metadata": {},
   "source": [
    "## 6. What happens to variables in a local scope when the function call returns?"
   ]
  },
  {
   "cell_type": "markdown",
   "id": "1131e763",
   "metadata": {},
   "source": [
    "`Ans:-`\n",
    "- All variables inside local scope are executed inside that function."
   ]
  },
  {
   "cell_type": "markdown",
   "id": "19d419c8",
   "metadata": {},
   "source": [
    "## 7. What is the concept of a return value? Is it possible to have a return value in an expression?"
   ]
  },
  {
   "cell_type": "markdown",
   "id": "6566a749",
   "metadata": {},
   "source": [
    "`Ans:-`\n",
    "- Return statement is processed at the end of function call to stop execution of function and returns result.\n",
    "- It is not possible to have a return value in an expression"
   ]
  },
  {
   "cell_type": "markdown",
   "id": "7b0013f8",
   "metadata": {},
   "source": [
    "## 8. If a function does not have a return statement, what is the return value of a call to that function?"
   ]
  },
  {
   "cell_type": "markdown",
   "id": "48b912a9",
   "metadata": {},
   "source": [
    "`Ans:-`\n",
    "- Fucntion will not return anything no output will be provided."
   ]
  },
  {
   "cell_type": "markdown",
   "id": "b9f4b41e",
   "metadata": {},
   "source": [
    "## 9. How do you make a function variable refer to the global variable?"
   ]
  },
  {
   "cell_type": "markdown",
   "id": "c8998609",
   "metadata": {},
   "source": [
    "`Ans:-`\n",
    "- We can use global keyword to make a function variable refer to the global variable."
   ]
  },
  {
   "cell_type": "markdown",
   "id": "b532a3bd",
   "metadata": {},
   "source": [
    "## 10. What is the data type of None?"
   ]
  },
  {
   "cell_type": "markdown",
   "id": "083690e0",
   "metadata": {},
   "source": [
    "`Ans:-`\n",
    "- Datatype of None is Nonetype"
   ]
  },
  {
   "cell_type": "markdown",
   "id": "13fa7d75",
   "metadata": {},
   "source": [
    "## 11. What does the sentence import areallyourpetsnamederic do?"
   ]
  },
  {
   "cell_type": "markdown",
   "id": "900d8715",
   "metadata": {},
   "source": [
    "`Ans:-`\n",
    "- It will import module named as areallyourpetsnamederic."
   ]
  },
  {
   "cell_type": "markdown",
   "id": "9ee01968",
   "metadata": {},
   "source": [
    "### 12. If you had a bacon() feature in a spam module, what would you call it after importing spam?"
   ]
  },
  {
   "cell_type": "markdown",
   "id": "b0cce918",
   "metadata": {},
   "source": [
    "`Ans:-`\n",
    "- Method 1 : import module first.. from spam import bacon\n",
    "- Method 2 : By writing spam. + using tab key will give u feature of bacon()"
   ]
  },
  {
   "cell_type": "markdown",
   "id": "5603cc0f",
   "metadata": {},
   "source": [
    "## 13. What can you do to save a programme from crashing if it encounters an error?"
   ]
  },
  {
   "cell_type": "markdown",
   "id": "b84f0c86",
   "metadata": {},
   "source": [
    "`Ans:-`\n",
    "- We can stop program for further execution of code pressing Ctrl + C."
   ]
  },
  {
   "cell_type": "markdown",
   "id": "caa2d66a",
   "metadata": {},
   "source": [
    "## 14. What is the purpose of the try clause? What is the purpose of the except clause?"
   ]
  },
  {
   "cell_type": "markdown",
   "id": "9e9fd51c",
   "metadata": {},
   "source": [
    "`Ans:-`\n",
    "- It will execute code and check for error. If error occurs then it will execute except clause which is use to handle exceptions or errors in code present inside try clause.\n",
    "    "
   ]
  }
 ],
 "metadata": {
  "kernelspec": {
   "display_name": "Python 3 (ipykernel)",
   "language": "python",
   "name": "python3"
  },
  "language_info": {
   "codemirror_mode": {
    "name": "ipython",
    "version": 3
   },
   "file_extension": ".py",
   "mimetype": "text/x-python",
   "name": "python",
   "nbconvert_exporter": "python",
   "pygments_lexer": "ipython3",
   "version": "3.9.7"
  }
 },
 "nbformat": 4,
 "nbformat_minor": 5
}
