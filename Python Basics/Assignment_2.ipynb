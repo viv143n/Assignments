{
 "cells": [
  {
   "cell_type": "markdown",
   "id": "0ec9d5f4",
   "metadata": {},
   "source": [
    "## Assignment 2 : Python basics"
   ]
  },
  {
   "cell_type": "markdown",
   "id": "ebd821ab",
   "metadata": {},
   "source": [
    "## 1.What are the two values of the Boolean data type? How do you write them? \n",
    " Ans.<br>\n",
    "        True or False <br>\n",
    "        It can be also True or 1 and False or 0.<br>"
   ]
  },
  {
   "cell_type": "markdown",
   "id": "5f464d28",
   "metadata": {},
   "source": [
    "## 2. What are the three different types of Boolean operators?  \n",
    "Ans.<br>\n",
    "    AND ,OR ,NOT "
   ]
  },
  {
   "cell_type": "markdown",
   "id": "c5539dab",
   "metadata": {},
   "source": [
    "## 3. Make a list of each Boolean operator's truth tables (i.e. every possible combination of Boolean values for the operator and what it evaluate )."
   ]
  },
  {
   "cell_type": "code",
   "execution_count": 6,
   "id": "ceec7fc8",
   "metadata": {},
   "outputs": [
    {
     "data": {
      "text/plain": [
       "{1: True,\n",
       " 2: False,\n",
       " 3: False,\n",
       " 4: False,\n",
       " 5: True,\n",
       " 6: True,\n",
       " 7: False,\n",
       " 8: True,\n",
       " 9: False,\n",
       " 10: True}"
      ]
     },
     "execution_count": 6,
     "metadata": {},
     "output_type": "execute_result"
    }
   ],
   "source": [
    "{1:True and True,\n",
    " 2:True and False,\n",
    " 3:False and False,\n",
    " 4:False and True,\n",
    " 5:True or True,\n",
    " 6:True or False,\n",
    " 7:False or False,\n",
    " 8:False or True,\n",
    " 9:not True,\n",
    " 10:not  False,}"
   ]
  },
  {
   "cell_type": "markdown",
   "id": "373abbff",
   "metadata": {},
   "source": [
    "## 4. What are the values of the following expressions?\n",
    "(5 > 4) and (3 == 5)\n",
    "\n",
    "not (5 > 4)\n",
    "\n",
    "(5 > 4) or (3 == 5)\n",
    "\n",
    "not ((5 > 4) or (3 == 5))\n",
    "\n",
    "(True and True) and (True == False)\n",
    "\n",
    "(not False) or (not True)"
   ]
  },
  {
   "cell_type": "code",
   "execution_count": 9,
   "id": "669451ab",
   "metadata": {},
   "outputs": [
    {
     "data": {
      "text/plain": [
       "(False, False, True, False, False)"
      ]
     },
     "execution_count": 9,
     "metadata": {},
     "output_type": "execute_result"
    }
   ],
   "source": [
    "(5 > 4) and (3 == 5) , not (5 > 4) , (5 > 4) or (3 == 5) , not ((5 > 4) or (3 == 5)) , (True and True) and (True == False)"
   ]
  },
  {
   "cell_type": "code",
   "execution_count": 8,
   "id": "9c448ecc",
   "metadata": {},
   "outputs": [
    {
     "data": {
      "text/plain": [
       "True"
      ]
     },
     "execution_count": 8,
     "metadata": {},
     "output_type": "execute_result"
    }
   ],
   "source": [
    "(not False) or (not True)"
   ]
  },
  {
   "cell_type": "code",
   "execution_count": 10,
   "id": "f4016b14",
   "metadata": {},
   "outputs": [
    {
     "data": {
      "text/plain": [
       "True"
      ]
     },
     "execution_count": 10,
     "metadata": {},
     "output_type": "execute_result"
    }
   ],
   "source": [
    "not 5 < 4"
   ]
  },
  {
   "cell_type": "markdown",
   "id": "39c7b852",
   "metadata": {},
   "source": [
    "## 5. What are the six comparison operators?"
   ]
  },
  {
   "cell_type": "code",
   "execution_count": 11,
   "id": "720be25b",
   "metadata": {},
   "outputs": [
    {
     "data": {
      "text/plain": [
       "{1: '==', 2: '!=', 3: '>', 4: '>=', 5: '<', 6: '<='}"
      ]
     },
     "execution_count": 11,
     "metadata": {},
     "output_type": "execute_result"
    }
   ],
   "source": [
    "{1 : \"==\",\n",
    " 2 : \"!=\", \n",
    " 3 : \">\", \n",
    " 4 : \">=\", \n",
    " 5 : \"<\" , \n",
    " 6 : \"<=\"}"
   ]
  }
 ],
 "metadata": {
  "kernelspec": {
   "display_name": "Python 3 (ipykernel)",
   "language": "python",
   "name": "python3"
  },
  "language_info": {
   "codemirror_mode": {
    "name": "ipython",
    "version": 3
   },
   "file_extension": ".py",
   "mimetype": "text/x-python",
   "name": "python",
   "nbconvert_exporter": "python",
   "pygments_lexer": "ipython3",
   "version": "3.9.7"
  }
 },
 "nbformat": 4,
 "nbformat_minor": 5
}
