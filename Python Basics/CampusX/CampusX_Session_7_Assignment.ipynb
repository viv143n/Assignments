{
 "cells": [
  {
   "cell_type": "markdown",
   "metadata": {},
   "source": [
    "# `OOPS Concepts Assignment`"
   ]
  },
  {
   "cell_type": "markdown",
   "metadata": {
    "id": "FyUJ3PRAsPr4"
   },
   "source": [
    "## `Q1`: Rectangle Class\n",
    "1. Write a Rectangle class in Python language, allowing you to build a rectangle with length and width attributes.\n",
    "\n",
    "2. Create a Perimeter() method to calculate the perimeter of the rectangle and a Area() method to calculate the area of ​​the rectangle.\n",
    "\n",
    "3. Create a method display() that display the length, width, perimeter and area of an object created using an instantiation on rectangle class."
   ]
  },
  {
   "cell_type": "markdown",
   "metadata": {
    "id": "GxUtOqJfssFK"
   },
   "source": [
    "Eg.\n",
    "After making above classes and methods, on executing below code:-\n",
    "```\n",
    "my_rectangle = Rectangle(3 , 4)\n",
    "my_rectangle.display()\n",
    "```\n",
    "\n",
    "`Output:`\n",
    "```\n",
    "The length of rectangle is:  3\n",
    "The width of rectangle is:  4\n",
    "The perimeter of rectangle is:  14\n",
    "The area of rectangle is:  12\n",
    "```\n"
   ]
  },
  {
   "cell_type": "code",
   "execution_count": 46,
   "metadata": {
    "id": "92_QT-Uj6NBg"
   },
   "outputs": [],
   "source": [
    "# Creating a Class of rectangle\n",
    "class Rectangle:  \n",
    "  \n",
    "  def __init__(self,l,w):\n",
    "    self.l = l\n",
    "    self.w = w\n",
    "  \n",
    "  def display(self):\n",
    "    print('The length of rectangle is:',self.l)\n",
    "    print('The width of rectangle is:',self.w)\n",
    "    print('The perimeter of rectangle is:',self.perimeter())\n",
    "    print('The area of rectanlge is :',self.area_of_rect())\n",
    "\n",
    "  def perimeter(self):\n",
    "    per = 2*(self.l*self.w)\n",
    "    return per \n",
    "  \n",
    "  def area_of_rect(self):\n",
    "    a = (self.l*self.w)\n",
    "    return a"
   ]
  },
  {
   "cell_type": "code",
   "execution_count": 47,
   "metadata": {},
   "outputs": [],
   "source": [
    "my_rectangle = Rectangle(10,25)"
   ]
  },
  {
   "cell_type": "code",
   "execution_count": 48,
   "metadata": {},
   "outputs": [
    {
     "name": "stdout",
     "output_type": "stream",
     "text": [
      "The length of rectangle is: 10\n",
      "The width of rectangle is: 25\n",
      "The perimeter of rectangle is: 500\n",
      "The area of rectanlge is : 250\n"
     ]
    }
   ],
   "source": [
    "my_rectangle.display()"
   ]
  },
  {
   "cell_type": "markdown",
   "metadata": {
    "id": "r_GxrS0Vrdom"
   },
   "source": [
    "## `Q2`: Bank Class\n",
    "\n",
    "* Create a Python class called `BankAccount` which represents a bank account, having as attributes: `accountNumber` (numeric type), `name` (name of the account owner as string type), `balance`.\n",
    "* Create a constructor with parameters: `accountNumber, name, balance`.\n",
    "* Create a `Deposit()` method which manages the deposit actions.>>> from sympy.polys.domains import ZZ\n",
    "* Create a `Withdrawal()` method  which manages withdrawals actions.\n",
    "* Create an `bankFees()` method to apply the bank fees with a percentage of 5% of the balance account.\n",
    "* Create a `display()` method to display account details.\n",
    "* Give the complete code for the  BankAccount class."
   ]
  },
  {
   "cell_type": "markdown",
   "metadata": {
    "id": "qvVkOUJgvTV_"
   },
   "source": [
    "Eg.\n",
    "After making above classes and methods, on executing below code:-\n",
    "```\n",
    "newAccount = BankAccount(2178514584, \"Mandy\" , 2800)\n",
    "\n",
    "newAccount.Withdrawal(700)\n",
    "\n",
    "newAccount.Deposit(1000)\n",
    "\n",
    "newAccount.display()\n",
    "```\n",
    "\n",
    "`Output:`\n",
    "```\n",
    "Account Number :  2178514584\n",
    "Account Name :  Mandy\n",
    "Account Balance :  3100 ₹\n",
    "```"
   ]
  },
  {
   "cell_type": "code",
   "execution_count": 49,
   "metadata": {
    "id": "fUQOmQyA6YDR"
   },
   "outputs": [],
   "source": [
    "#Creating a Bank Class\n",
    "class BankAccount:\n",
    "    \n",
    "    def __init__(self,Accountno,name,balance):\n",
    "        self.Accountno = Accountno\n",
    "        self.name = name\n",
    "        self.balance = balance\n",
    "        \n",
    "    def Withdrawal(self,a):\n",
    "        if self.balance >=a:\n",
    "            self.balance = self.balance - a\n",
    "            print('Transaction Succesful')\n",
    "            print('Your Remaning balance:',self.balance, '₹')\n",
    "        else:\n",
    "            print('Abe Salle Apni Aukad se daal jitna account me hai')\n",
    "            a=int(input('Try again : '))\n",
    "            self.balance = self.balance - a\n",
    "            print('Abb Kaisa Aya Asli aukad pe , Sahi hai')\n",
    "            print('Your Account Balance is : ',self.balance, '₹')\n",
    "    \n",
    "    def Display(self):\n",
    "        \n",
    "#         print('Account Number  : ',self.Accountno)\n",
    "#         print('Account Name    : ',self.name)\n",
    "#         print('Account Balance : ',self.balance)\n",
    "            \n",
    "        print('\\n','Account Number  : ',self.Accountno,'\\n','Account Name    : ',self.name,'\\n','Account Balance : ',self.balance,'₹',end=' ')\n",
    "    \n",
    "    def Deposit(self,d):\n",
    "        self.balance = self.balance + d\n",
    "        print(d,'₹ Deposited Successfully')\n",
    "        print('Your new account balance is :',self.balance,'₹')\n",
    "        \n",
    "    def Bankfees(self):\n",
    "        a = (5*self.balance)/100 \n",
    "        print('Bank Service Charge: ',a)\n",
    "        self.balance -= a\n",
    "        print('After deducting Service charges new balance is :',self.balance,'₹')    \n",
    "      \n",
    "              "
   ]
  },
  {
   "cell_type": "code",
   "execution_count": 52,
   "metadata": {
    "scrolled": true
   },
   "outputs": [
    {
     "name": "stdout",
     "output_type": "stream",
     "text": [
      "Transaction Succesful\n",
      "Your Remaning balance: 2100 ₹\n",
      "1000 ₹ Deposited Successfully\n",
      "Your new account balance is : 3100 ₹\n",
      "\n",
      " Account Number  :  2178514584 \n",
      " Account Name    :  Mandy \n",
      " Account Balance :  3100 ₹ "
     ]
    }
   ],
   "source": [
    "newAccount = BankAccount(2178514584, \"Mandy\" , 2800)\n",
    "\n",
    "newAccount.Withdrawal(700)\n",
    "\n",
    "newAccount.Deposit(1000)\n",
    "\n",
    "newAccount.Display()"
   ]
  },
  {
   "cell_type": "markdown",
   "metadata": {
    "id": "QovcQAZTrgGU"
   },
   "source": [
    "## `Q3`:Computation class`\n",
    "\n",
    "1. Create a `Computation` class with a default constructor (without parameters) allowing to perform various calculations on integers numbers.\n",
    "2. Create a method called `Factorial()` which allows to calculate the factorial of an integer n. Integer n as parameter for this method\n",
    "\n",
    "3. Create a method called `naturalSum()` allowing to calculate the sum of the first n integers 1 + 2 + 3 + .. + n. Integer n as parameter for this method.\n",
    "\n",
    "4. Create a method called `testPrime()` in  the Calculation class to test the primality of a given integer n, n is Prime or Not? Integer n as parameter for this method.\n",
    "\n",
    "5. Create  a method called `testPrims()` allowing to test if two numbers are prime between them. Two integers are prime to one another if they have only `1` as their common divisor. Eg. 4 and 9 are prime to each other.\n",
    "\n",
    "5. Create a `tableMult()` method which creates and displays the multiplication table of a given integer. Then create an `allTablesMult()` method to display all the integer multiplication tables 1, 2, 3, ..., 9.\n",
    "\n",
    "6. Create a static `listDiv()` method that gets all the divisors of a given integer on new list called  Ldiv. Create another `listDivPrim()` method that gets all the prime divisors of a given integer."
   ]
  },
  {
   "cell_type": "code",
   "execution_count": 44,
   "metadata": {
    "id": "YEkPH70l6Z-o"
   },
   "outputs": [],
   "source": [
    "# write your code here\n",
    "class Computation:\n",
    "\n",
    "  def __init__(self):\n",
    "    pass\n",
    "\n",
    "  def Factorial(self,n):\n",
    "        a = 1\n",
    "        for i in range (1,n + 1):\n",
    "            a = (a*i)\n",
    "        return a\n",
    "  \n",
    "  def naturalnum(self,n):\n",
    "        a=0\n",
    "        for i in range(1,n + 1):\n",
    "            a = (a + i)\n",
    "        return a\n",
    "\n",
    "  def testprime(self,n):\n",
    "        count=0\n",
    "        for i in range (2,n):\n",
    "            if n%i == 0:\n",
    "                count += 1\n",
    "        if count == 0:\n",
    "            print('Its Prime')\n",
    "        else:\n",
    "            print('Not prime')  \n",
    "            \n",
    "  def tablemult(self,num):\n",
    "    for i in range (1,11):\n",
    "        print( num,'x',i,'=',(num*i))\n",
    "  \n",
    "               "
   ]
  },
  {
   "cell_type": "code",
   "execution_count": 57,
   "metadata": {},
   "outputs": [
    {
     "data": {
      "text/plain": [
       "120"
      ]
     },
     "execution_count": 57,
     "metadata": {},
     "output_type": "execute_result"
    }
   ],
   "source": [
    "obj = Computation()\n",
    "obj.Factorial(5)"
   ]
  },
  {
   "cell_type": "code",
   "execution_count": 58,
   "metadata": {},
   "outputs": [
    {
     "name": "stdout",
     "output_type": "stream",
     "text": [
      "Not prime\n"
     ]
    }
   ],
   "source": [
    "obj.testprime(9)"
   ]
  },
  {
   "cell_type": "code",
   "execution_count": 56,
   "metadata": {},
   "outputs": [
    {
     "data": {
      "text/plain": [
       "55"
      ]
     },
     "execution_count": 56,
     "metadata": {},
     "output_type": "execute_result"
    }
   ],
   "source": [
    "obj.naturalnum(10)"
   ]
  },
  {
   "cell_type": "code",
   "execution_count": 55,
   "metadata": {},
   "outputs": [
    {
     "name": "stdout",
     "output_type": "stream",
     "text": [
      "11 x 1 = 11\n",
      "11 x 2 = 22\n",
      "11 x 3 = 33\n",
      "11 x 4 = 44\n",
      "11 x 5 = 55\n",
      "11 x 6 = 66\n",
      "11 x 7 = 77\n",
      "11 x 8 = 88\n",
      "11 x 9 = 99\n",
      "11 x 10 = 110\n"
     ]
    }
   ],
   "source": [
    "obj.tablemult(11)"
   ]
  },
  {
   "cell_type": "code",
   "execution_count": 59,
   "metadata": {},
   "outputs": [
    {
     "name": "stdout",
     "output_type": "stream",
     "text": [
      "[1, 2, 3, 5, 7, 11, 13, 17, 19, 23, 29, 31, 37, 41, 43, 47]\n",
      "Total nos are: 16\n"
     ]
    }
   ],
   "source": [
    "b = []\n",
    "for i in range(1,50):\n",
    "        count = 0\n",
    "        for j in range(2,i):\n",
    "            if i%j == 0:\n",
    "                count += 1\n",
    "        if count == 0:\n",
    "            b.append(i)\n",
    "print(b)\n",
    "print('Total nos are:',len(b))            "
   ]
  },
  {
   "cell_type": "code",
   "execution_count": 60,
   "metadata": {},
   "outputs": [
    {
     "name": "stdout",
     "output_type": "stream",
     "text": [
      "Not prime\n"
     ]
    }
   ],
   "source": [
    "obj = Computation()\n",
    "obj.testprime(9)"
   ]
  },
  {
   "cell_type": "markdown",
   "metadata": {
    "id": "0yn23_oEriXa"
   },
   "source": [
    "## `Q4`: Build flashcard using class in Python.\n",
    "\n",
    "Build a flashcard using class in python. A flashcard is a card having information on both sides, which can be used as an aid in memoization. Flashcards usually have a question on one side and an answer on the other.\n",
    "\n",
    "**Example 1:**\n",
    "\n",
    "Approach:\n",
    "\n",
    "- Create a class named FlashCard.\n",
    "- Initialize dictionary fruits using __init__() method. Here you have to define fruit name as key and it's color as value. E.g., {\"Banana\": \"yellow\", \"Strawberries\": \"pink\"}\n",
    "- Now randomly choose a pair from fruits by using _random_ module and store the key in variable _fruit_ and _value_ in variable color.\n",
    "- Now prompt the user to answer the color of the randomly chosen fruit.\n",
    "- If correct print correct else print wrong.\n",
    "\n",
    "Output:\n",
    "```bash\n",
    "welcome to fruit quiz\n",
    "What is the color of Strawberries\n",
    "pink\n",
    "Correct answer\n",
    "Enter 0, if you want to play again: 0\n",
    "What is the color of watermelon\n",
    "green\n",
    "Correct answer\n",
    "Enter 0, if you want to play again: 1\n",
    "```"
   ]
  },
  {
   "cell_type": "code",
   "execution_count": 22,
   "metadata": {},
   "outputs": [],
   "source": [
    "class FlashCard:\n",
    "    \n",
    "    def __init__(self):\n",
    "        self.dic = {\"Banana\": \"yellow\", \"Strawberries\": \"pink\",\"Apple\":\"Red\",\"Orange\":\"Orange\",\"Guva\":\"Green\"}\n",
    "        \n",
    "        \n",
    "    def start_game(self):\n",
    "        import random\n",
    "        print('Welcome to fruits Game')        \n",
    "        b = random.choice(list(self.dic.keys()))\n",
    "        print(f'What is color of',b)\n",
    "        c = input('Answer of :')\n",
    "        if c == self.dic[b]:\n",
    "            print('Correct Answer')\n",
    "        else:\n",
    "            print('Incorrect')\n",
    "        again = int(input('Enter 0 if you want to play game again else 1.'))\n",
    "        if again == 0:\n",
    "            print('Exit')\n",
    "        else:\n",
    "            return FlashCard.start_game(self)         "
   ]
  },
  {
   "cell_type": "code",
   "execution_count": 61,
   "metadata": {},
   "outputs": [
    {
     "name": "stdout",
     "output_type": "stream",
     "text": [
      "Welcome to fruits Game\n",
      "What is color of Banana\n",
      "Answer of :yellow\n",
      "Correct Answer\n",
      "Enter 0 if you want to play game again else 1.1\n",
      "Welcome to fruits Game\n",
      "What is color of Strawberries\n",
      "Answer of :pink\n",
      "Correct Answer\n",
      "Enter 0 if you want to play game again else 1.0\n",
      "Exit\n"
     ]
    }
   ],
   "source": [
    "a = FlashCard()\n",
    "a.start_game()"
   ]
  }
 ],
 "metadata": {
  "colab": {
   "provenance": []
  },
  "kernelspec": {
   "display_name": "Python 3 (ipykernel)",
   "language": "python",
   "name": "python3"
  },
  "language_info": {
   "codemirror_mode": {
    "name": "ipython",
    "version": 3
   },
   "file_extension": ".py",
   "mimetype": "text/x-python",
   "name": "python",
   "nbconvert_exporter": "python",
   "pygments_lexer": "ipython3",
   "version": "3.9.7"
  }
 },
 "nbformat": 4,
 "nbformat_minor": 1
}
