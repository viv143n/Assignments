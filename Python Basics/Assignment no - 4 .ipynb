{
 "cells": [
  {
   "cell_type": "markdown",
   "id": "655a41f0",
   "metadata": {},
   "source": [
    "# Assignment 4 : Python basics"
   ]
  },
  {
   "cell_type": "markdown",
   "id": "43f06b45",
   "metadata": {},
   "source": [
    "### 1. What exactly is [ ]?"
   ]
  },
  {
   "cell_type": "markdown",
   "id": "f936f1b2",
   "metadata": {},
   "source": [
    "- Square brackets.\n",
    "- Used to assign list and in indexing, slicing operations."
   ]
  },
  {
   "cell_type": "markdown",
   "id": "08fc6108",
   "metadata": {},
   "source": [
    "### 2. In a list of values stored in a variable called spam, how would you assign the value 'hello' as the third value? `(Assume [2, 4, 6, 8, 10] are in spam.)`"
   ]
  },
  {
   "cell_type": "code",
   "execution_count": 1,
   "id": "005f32b4",
   "metadata": {},
   "outputs": [],
   "source": [
    "spam = [2, 4, 6, 8, 10]\n",
    "spam[2]='hello'"
   ]
  },
  {
   "cell_type": "code",
   "execution_count": 2,
   "id": "26e4badb",
   "metadata": {},
   "outputs": [
    {
     "data": {
      "text/plain": [
       "[2, 4, 'hello', 8, 10]"
      ]
     },
     "execution_count": 2,
     "metadata": {},
     "output_type": "execute_result"
    }
   ],
   "source": [
    "spam"
   ]
  },
  {
   "cell_type": "markdown",
   "id": "b7d4b06d",
   "metadata": {},
   "source": [
    "### 3. Let's pretend the spam includes the list ['a','b', 'c','d'] for the next three queries.\n",
    "`spam = ['a','b','c','d']`"
   ]
  },
  {
   "cell_type": "code",
   "execution_count": 3,
   "id": "3be81253",
   "metadata": {},
   "outputs": [],
   "source": [
    "spam = ['a','b','c','d']"
   ]
  },
  {
   "cell_type": "markdown",
   "id": "dc418a19",
   "metadata": {},
   "source": [
    "#### What is the value of spam[int(int('3' * 2) / 11)]?"
   ]
  },
  {
   "cell_type": "code",
   "execution_count": 4,
   "id": "6b34928e",
   "metadata": {},
   "outputs": [
    {
     "data": {
      "text/plain": [
       "'d'"
      ]
     },
     "execution_count": 4,
     "metadata": {},
     "output_type": "execute_result"
    }
   ],
   "source": [
    "spam[int(int('3' * 2) / 11)]"
   ]
  },
  {
   "cell_type": "markdown",
   "id": "c1216d3a",
   "metadata": {},
   "source": [
    "#### What is the value of spam[-1]? "
   ]
  },
  {
   "cell_type": "code",
   "execution_count": 5,
   "id": "eaa505e2",
   "metadata": {},
   "outputs": [
    {
     "data": {
      "text/plain": [
       "'d'"
      ]
     },
     "execution_count": 5,
     "metadata": {},
     "output_type": "execute_result"
    }
   ],
   "source": [
    "spam[-1] #it will gonna returb last element from the spam."
   ]
  },
  {
   "cell_type": "markdown",
   "id": "05529f7e",
   "metadata": {},
   "source": [
    "#### What is the value of spam[:2]?"
   ]
  },
  {
   "cell_type": "code",
   "execution_count": 6,
   "id": "4548e3cf",
   "metadata": {},
   "outputs": [
    {
     "data": {
      "text/plain": [
       "['a', 'b']"
      ]
     },
     "execution_count": 6,
     "metadata": {},
     "output_type": "execute_result"
    }
   ],
   "source": [
    "spam[:2] #it will return starting 2 index values from spam."
   ]
  },
  {
   "cell_type": "markdown",
   "id": "d0505c77",
   "metadata": {},
   "source": [
    "### 4.Let's pretend bacon has the list [3.14,'cat',11,'cat', True] for the next three questions.\n"
   ]
  },
  {
   "cell_type": "code",
   "execution_count": 7,
   "id": "2d986922",
   "metadata": {},
   "outputs": [],
   "source": [
    "bacon = [3.14,'cat',11,'cat', True]"
   ]
  },
  {
   "cell_type": "markdown",
   "id": "04d93052",
   "metadata": {},
   "source": [
    "#### What is the value of bacon.index('cat')?"
   ]
  },
  {
   "cell_type": "code",
   "execution_count": 8,
   "id": "e20c7873",
   "metadata": {},
   "outputs": [
    {
     "data": {
      "text/plain": [
       "1"
      ]
     },
     "execution_count": 8,
     "metadata": {},
     "output_type": "execute_result"
    }
   ],
   "source": [
    "bacon.index('cat') #it will return the index values of 'cat' from the list bacon."
   ]
  },
  {
   "cell_type": "markdown",
   "id": "9cb2748c",
   "metadata": {},
   "source": [
    "#### How does bacon.append(99) change the look of the list value in bacon?"
   ]
  },
  {
   "cell_type": "code",
   "execution_count": 9,
   "id": "c2aaaf31",
   "metadata": {},
   "outputs": [],
   "source": [
    "bacon.append(99) #append is function used in list that can add elements wich has been passed into it ."
   ]
  },
  {
   "cell_type": "code",
   "execution_count": 11,
   "id": "2f44724e",
   "metadata": {},
   "outputs": [
    {
     "data": {
      "text/plain": [
       "[3.14, 'cat', 11, 'cat', True, 99]"
      ]
     },
     "execution_count": 11,
     "metadata": {},
     "output_type": "execute_result"
    }
   ],
   "source": [
    "bacon #it will add and now there 6 elements in it and 5 index values 0-5."
   ]
  },
  {
   "cell_type": "markdown",
   "id": "3f0d9bca",
   "metadata": {},
   "source": [
    "####  How does bacon.remove('cat') change the look of the list in bacon?"
   ]
  },
  {
   "cell_type": "code",
   "execution_count": 12,
   "id": "f382e258",
   "metadata": {},
   "outputs": [],
   "source": [
    "bacon.remove('cat') #it gonna remove 'cat' once from the list which is appearing first in the list."
   ]
  },
  {
   "cell_type": "code",
   "execution_count": 13,
   "id": "c3ca7d18",
   "metadata": {},
   "outputs": [
    {
     "data": {
      "text/plain": [
       "[3.14, 11, 'cat', True, 99]"
      ]
     },
     "execution_count": 13,
     "metadata": {},
     "output_type": "execute_result"
    }
   ],
   "source": [
    "bacon"
   ]
  },
  {
   "cell_type": "markdown",
   "id": "0716de8b",
   "metadata": {},
   "source": [
    "### 5. What are the list concatenation and list replication operators?"
   ]
  },
  {
   "cell_type": "markdown",
   "id": "f988ca65",
   "metadata": {},
   "source": [
    "- The operator for list concatenation is + , while the operator for replication is *"
   ]
  },
  {
   "cell_type": "markdown",
   "id": "99a6dc40",
   "metadata": {},
   "source": [
    "### 6. What is difference between the list methods append() and insert()?"
   ]
  },
  {
   "cell_type": "markdown",
   "id": "f1bf2e3a",
   "metadata": {},
   "source": [
    "- append() takes only 1 argument which is object and adds elements to the last index of a list.\n",
    "- insert() takes 2 arguments that are index & object and adds values at any given index of list ."
   ]
  },
  {
   "cell_type": "markdown",
   "id": "cba2ffdf",
   "metadata": {},
   "source": [
    "### 7. What are the two methods for removing items from a list?"
   ]
  },
  {
   "cell_type": "markdown",
   "id": "a27a9df5",
   "metadata": {},
   "source": [
    "* list.remove() - this gonna remove any values what ever we pass element from it.\n",
    "* list.pop()    - this will remove last index item from the list ."
   ]
  },
  {
   "cell_type": "markdown",
   "id": "9dec5991",
   "metadata": {},
   "source": [
    "### 8.Describe how list values and string values are identical."
   ]
  },
  {
   "cell_type": "markdown",
   "id": "120324c1",
   "metadata": {},
   "source": [
    "- Values inside list and strings are iterable ."
   ]
  },
  {
   "cell_type": "markdown",
   "id": "e6b5579b",
   "metadata": {},
   "source": [
    "### 9.What's the difference between tuples and lists?"
   ]
  },
  {
   "cell_type": "markdown",
   "id": "b83b76a7",
   "metadata": {},
   "source": [
    "- Tuple  - Immutable, values can only be added in last index\n",
    "- List   -  Mutable, values can be added anywhere inside list."
   ]
  },
  {
   "cell_type": "markdown",
   "id": "7910a340",
   "metadata": {},
   "source": [
    "### 10 .How do you type a tuple value that only contains the integer 42?"
   ]
  },
  {
   "cell_type": "code",
   "execution_count": 27,
   "id": "d1f4c078",
   "metadata": {},
   "outputs": [
    {
     "data": {
      "text/plain": [
       "(42,)"
      ]
     },
     "execution_count": 27,
     "metadata": {},
     "output_type": "execute_result"
    }
   ],
   "source": [
    "(42,) #in a tuple , is mandatory so we can called it as tuple"
   ]
  },
  {
   "cell_type": "markdown",
   "id": "353223a6",
   "metadata": {},
   "source": [
    "### 11.How do you get a list value's tuple form? How do you get a tuple value's list form?"
   ]
  },
  {
   "cell_type": "markdown",
   "id": "6c1b7e4a",
   "metadata": {},
   "source": [
    "- We can convert tuple into list using list(X) where X is tuple.\n",
    "- And we can convert list into tuple using tuple(Y) where Y is list.<br>\n",
    "`Example:-` <br>"
   ]
  },
  {
   "cell_type": "code",
   "execution_count": 42,
   "id": "a07eeaf6",
   "metadata": {},
   "outputs": [
    {
     "name": "stdout",
     "output_type": "stream",
     "text": [
      "a is : <class 'tuple'>\n",
      "b is : <class 'list'>\n",
      "Now list is : <class 'tuple'>\n",
      "Now Tuple is: <class 'list'>\n"
     ]
    }
   ],
   "source": [
    "a = ('a',1,2,3,'b','c')\n",
    "print('a is :',type(a))\n",
    "b = ['a',1,2,3,'b','c']\n",
    "print('b is :',type(b))\n",
    "#lets convert now\n",
    "d= tuple(b)\n",
    "e =list(a)\n",
    "print('Now list is :',type(d))\n",
    "print('Now Tuple is:',type(e))"
   ]
  },
  {
   "cell_type": "markdown",
   "id": "88efd911",
   "metadata": {},
   "source": [
    "### 12.Variables that \"contain\" list values are not necessarily lists themselves. Instead, what do they contain?"
   ]
  },
  {
   "cell_type": "markdown",
   "id": "053414a8",
   "metadata": {},
   "source": [
    "- Reference to the list"
   ]
  },
  {
   "cell_type": "markdown",
   "id": "2b2d2d3f",
   "metadata": {},
   "source": [
    "### 13.How do you distinguish between copy.copy() and copy.deepcopy()?"
   ]
  },
  {
   "cell_type": "markdown",
   "id": "187b326b",
   "metadata": {},
   "source": [
    "- copy.copy() will create copy of the object but stores reference.\n",
    "- copy.deepcopy() will create copy of the object and will not store its reference."
   ]
  },
  {
   "cell_type": "code",
   "execution_count": 47,
   "id": "a6246983",
   "metadata": {},
   "outputs": [
    {
     "ename": "AttributeError",
     "evalue": "'tuple' object has no attribute 'copy'",
     "output_type": "error",
     "traceback": [
      "\u001b[1;31m---------------------------------------------------------------------------\u001b[0m",
      "\u001b[1;31mAttributeError\u001b[0m                            Traceback (most recent call last)",
      "\u001b[1;32m~\\AppData\\Local\\Temp/ipykernel_18904/3941280863.py\u001b[0m in \u001b[0;36m<module>\u001b[1;34m\u001b[0m\n\u001b[1;32m----> 1\u001b[1;33m \u001b[0mb\u001b[0m \u001b[1;33m=\u001b[0m \u001b[0ma\u001b[0m\u001b[1;33m.\u001b[0m\u001b[0mcopy\u001b[0m\u001b[1;33m(\u001b[0m\u001b[1;33m)\u001b[0m\u001b[1;33m\u001b[0m\u001b[1;33m\u001b[0m\u001b[0m\n\u001b[0m",
      "\u001b[1;31mAttributeError\u001b[0m: 'tuple' object has no attribute 'copy'"
     ]
    }
   ],
   "source": [
    "b = a.copy()"
   ]
  },
  {
   "cell_type": "code",
   "execution_count": null,
   "id": "68af4cf8",
   "metadata": {},
   "outputs": [],
   "source": []
  }
 ],
 "metadata": {
  "kernelspec": {
   "display_name": "Python 3 (ipykernel)",
   "language": "python",
   "name": "python3"
  },
  "language_info": {
   "codemirror_mode": {
    "name": "ipython",
    "version": 3
   },
   "file_extension": ".py",
   "mimetype": "text/x-python",
   "name": "python",
   "nbconvert_exporter": "python",
   "pygments_lexer": "ipython3",
   "version": "3.9.7"
  }
 },
 "nbformat": 4,
 "nbformat_minor": 5
}
