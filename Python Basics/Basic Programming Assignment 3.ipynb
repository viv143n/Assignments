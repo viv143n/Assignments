{
 "cells": [
  {
   "cell_type": "markdown",
   "id": "8a98260d",
   "metadata": {},
   "source": [
    "# Assignment 3: Python Programming Basic\n",
    "\n"
   ]
  },
  {
   "cell_type": "markdown",
   "id": "b907b3d6",
   "metadata": {},
   "source": [
    "## 1. Write a Python Program to Check if a Number is Positive, Negative or Zero?"
   ]
  },
  {
   "cell_type": "code",
   "execution_count": 13,
   "id": "f2ac3d62",
   "metadata": {},
   "outputs": [
    {
     "data": {
      "text/plain": [
       "('-55.5 is Negative', '713 is Positive', '0 is Zero')"
      ]
     },
     "execution_count": 13,
     "metadata": {},
     "output_type": "execute_result"
    }
   ],
   "source": [
    "def sign_checker(x : int) -> str:\n",
    "    \n",
    "    '''This Function Checks if an int is (+ve) | (-ve) | 0'''\n",
    "    \n",
    "    if x > 0:\n",
    "        return f'{x} is Positive'\n",
    "    elif x == 0:\n",
    "        return f'{x} is Zero'\n",
    "    else:\n",
    "        return f'{x} is Negative'\n",
    "\n",
    "sign_checker(-55.5),sign_checker(713),sign_checker(0)"
   ]
  },
  {
   "cell_type": "markdown",
   "id": "19aa7f59",
   "metadata": {},
   "source": [
    "##  2. Write a Python Program to Check if a Number is Odd or Even?"
   ]
  },
  {
   "cell_type": "code",
   "execution_count": 10,
   "id": "64d40499",
   "metadata": {},
   "outputs": [
    {
     "data": {
      "text/plain": [
       "('786 is Even', '143 is Odd')"
      ]
     },
     "execution_count": 10,
     "metadata": {},
     "output_type": "execute_result"
    }
   ],
   "source": [
    "def even_odd_check(x : int) -> str:\n",
    "    \n",
    "    '''This Function Checks if an int is Even or Odd'''\n",
    "    \n",
    "    if x % 2 == 0:\n",
    "        return f'{x} is Even'\n",
    "    else: \n",
    "        return f'{x} is Odd'\n",
    "        \n",
    "        \n",
    "even_odd_check(786),even_odd_check(143)"
   ]
  },
  {
   "cell_type": "markdown",
   "id": "0fdcd3be",
   "metadata": {},
   "source": [
    "# 3. Write a Python Program to Check Leap Year?"
   ]
  },
  {
   "cell_type": "code",
   "execution_count": 8,
   "id": "e6381189",
   "metadata": {},
   "outputs": [
    {
     "data": {
      "text/plain": [
       "('1995 is Not a Leap Year', '2075 is Not a Leap Year')"
      ]
     },
     "execution_count": 8,
     "metadata": {},
     "output_type": "execute_result"
    }
   ],
   "source": [
    "def LeapYearCheck(x : int) -> str:\n",
    "    \n",
    "    '''This Function Checks whether an int input(year) is a Leap year or Not a Leap year'''\n",
    "    \n",
    "    if x % 4 == 0:\n",
    "        return f'{x} is Leap Year'\n",
    "    else:\n",
    "        return f'{x} is Not a Leap Year'\n",
    "\n",
    "LeapYearCheck(1995),LeapYearCheck(2075)"
   ]
  },
  {
   "cell_type": "markdown",
   "id": "56f5348e",
   "metadata": {},
   "source": [
    "## 4. Write a Python Program to Check Prime Number?"
   ]
  },
  {
   "cell_type": "code",
   "execution_count": 7,
   "id": "04901e39",
   "metadata": {},
   "outputs": [
    {
     "data": {
      "text/plain": [
       "('55 is Prime', '62 is Not Prime', '85 is Prime')"
      ]
     },
     "execution_count": 7,
     "metadata": {},
     "output_type": "execute_result"
    }
   ],
   "source": [
    "def PrimeCheck(x : int) -> str:\n",
    "    \n",
    "    '''This Function takes an int input and checks whether this int is prime number or not'''\n",
    "    \n",
    "    if x % 1 == 0:\n",
    "        if x % 3 == 0:\n",
    "            if x == 3:\n",
    "                return f'{x} is Prime'\n",
    "            elif x == 1:\n",
    "                return f'{x} is Prime'\n",
    "            return f'{x} is Not Prime'\n",
    "        elif x % 2 == 0:\n",
    "            if x == 2:\n",
    "                return f'{x} is Prime'\n",
    "            else:\n",
    "                return f'{x} is Not Prime'\n",
    "        else:\n",
    "            return f'{x} is Prime'\n",
    "        \n",
    "PrimeCheck(55),PrimeCheck(62),PrimeCheck(85)"
   ]
  },
  {
   "cell_type": "markdown",
   "id": "944da721",
   "metadata": {},
   "source": [
    "# 5. Write a Python Program to Print all Prime Numbers in an Interval of 1-10000?"
   ]
  },
  {
   "cell_type": "code",
   "execution_count": 6,
   "id": "676302c0",
   "metadata": {},
   "outputs": [
    {
     "name": "stdout",
     "output_type": "stream",
     "text": [
      "[1, 2, 3, 5, 7, 11, 13, 17, 19, 23, 29, 31, 37, 41, 43, 47, 53, 59, 61, 67, 71, 73, 79, 83, 89, 97, 101, 103, 107, 109, 113, 127, 131, 137, 139, 149, 151, 157, 163, 167, 173, 179, 181, 191, 193, 197, 199, 211, 223, 227, 229, 233, 239, 241, 251, 257, 263, 269, 271, 277, 281, 283, 293, 307, 311, 313, 317, 331, 337, 347, 349, 353, 359, 367, 373, 379, 383, 389, 397, 401, 409, 419, 421, 431, 433, 439, 443, 449, 457, 461, 463, 467, 479, 487, 491, 499, 503, 509, 521, 523, 541, 547, 557, 563, 569, 571, 577, 587, 593, 599, 601, 607, 613, 617, 619, 631, 641, 643, 647, 653, 659, 661, 673, 677, 683, 691, 701, 709, 719, 727, 733, 739, 743, 751, 757, 761, 769, 773, 787, 797, 809, 811, 821, 823, 827, 829, 839, 853, 857, 859, 863, 877, 881, 883, 887, 907, 911, 919, 929, 937, 941, 947, 953, 967, 971, 977, 983, 991, 997]\n"
     ]
    }
   ],
   "source": [
    "primeNumbersList = []\n",
    "\n",
    "def generatePrimeNumbers(y : range):\n",
    "    \n",
    "    '''This Function Generates Prime Numbers for a Given Range'''\n",
    "    \n",
    "    for x in range(1,y):\n",
    "        flag=False\n",
    "        for y in range(2,x):\n",
    "            if (x%y ==0):\n",
    "                flag = True\n",
    "                break\n",
    "        if (not flag):\n",
    "            primeNumbersList.append(x)\n",
    "        \n",
    "generatePrimeNumbers(1000)\n",
    "print(primeNumbersList)"
   ]
  },
  {
   "cell_type": "code",
   "execution_count": null,
   "id": "20427677",
   "metadata": {},
   "outputs": [],
   "source": []
  },
  {
   "cell_type": "code",
   "execution_count": null,
   "id": "e2a6efdb",
   "metadata": {},
   "outputs": [],
   "source": []
  }
 ],
 "metadata": {
  "kernelspec": {
   "display_name": "Python 3 (ipykernel)",
   "language": "python",
   "name": "python3"
  },
  "language_info": {
   "codemirror_mode": {
    "name": "ipython",
    "version": 3
   },
   "file_extension": ".py",
   "mimetype": "text/x-python",
   "name": "python",
   "nbconvert_exporter": "python",
   "pygments_lexer": "ipython3",
   "version": "3.9.7"
  }
 },
 "nbformat": 4,
 "nbformat_minor": 5
}
