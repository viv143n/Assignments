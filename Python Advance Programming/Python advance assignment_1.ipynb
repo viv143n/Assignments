{
 "cells": [
  {
   "cell_type": "markdown",
   "id": "50918b87",
   "metadata": {},
   "source": [
    "# Python Advance Programming Assignment : 1"
   ]
  },
  {
   "cell_type": "markdown",
   "id": "47a00375",
   "metadata": {},
   "source": [
    "### 1.Write a function that takes a list of lists and returns the value of all of the symbols in it, where each symbol adds or takes something from the total score. Symbol values:\n",
    "`# = 5, O = 3, X = 1, ! = -1, !! = -3 !!! = -5`<br>\n",
    "A list of lists containing 2 #s, a O, and a !!! would equal (0 + 5 + 5 + 3 - 5) 8. If the final score is negative, return 0 (e.g. 3 #s, 3 !!s, 2 !!!s and a X would be (0 + 5 + 5 + 5 - 3 - 3 - 3 - 5 - 5 + 1) -3, so return 0.\n",
    "`Examples:\n",
    "check_score([[\"#\", \"!\"],[\"!!\", \"X\"]]) ➞ 2 check_score([[\"!!!\", \"O\", \"!\"],[\"X\", \"#\", \"!!!\"],[\"!!\", \"X\", \"O\"]]) ➞ 0`"
   ]
  },
  {
   "cell_type": "code",
   "execution_count": 1,
   "id": "f6d0fddd",
   "metadata": {},
   "outputs": [
    {
     "name": "stdout",
     "output_type": "stream",
     "text": [
      "Scores of [['!!!', 'O', '!'], ['X', '#', '!!!'], ['!!', 'X', 'O']] ➞ 0\n",
      "Scores of [['#', '!'], ['!!', 'X']]➞ 2\n"
     ]
    }
   ],
   "source": [
    "dic ={'#': 5, 'O' : 3, 'X' : 1, '!': -1, '!!': -3,'!!!': -5}\n",
    "a=[\"#\", \"!\"],[\"!!\", \"X\"]\n",
    "def check_scr(x:str):\n",
    "    count=0\n",
    "    for i in x:\n",
    "        for j in i:\n",
    "            if j in dic.keys():\n",
    "                count=count+dic[j]\n",
    "    count\n",
    "    if count>0:\n",
    "        print(f'Scores of {x}➞',count)\n",
    "    else:\n",
    "        return print(f'Scores of {x} ➞', 0)\n",
    "check_scr([[\"!!!\", \"O\", \"!\"],[\"X\", \"#\", \"!!!\"],[\"!!\", \"X\", \"O\"]])\n",
    "check_scr([[\"#\", \"!\"],[\"!!\", \"X\"]])"
   ]
  },
  {
   "cell_type": "markdown",
   "id": "cf1a5f80",
   "metadata": {},
   "source": [
    "### 2.Create a function that takes a variable number of arguments, each argument representing the number of items in a group, and returns the number of permutations (combinations) of items that you could get by taking one item from each group.<br>\n",
    "**Examples:**<br>\n",
    "`combinations(2, 3) ➞ 6`<br>\n",
    "`combinations(3, 7, 4) ➞ 84`<br>\n",
    "`combinations(2, 3, 4, 5) ➞ 120`<br>"
   ]
  },
  {
   "cell_type": "code",
   "execution_count": 2,
   "id": "2a938764",
   "metadata": {},
   "outputs": [
    {
     "name": "stdout",
     "output_type": "stream",
     "text": [
      "combinations(2, 3, 4) ➞ 24\n",
      "combinations(3, 7, 4) ➞ 84\n",
      "combinations(2, 3, 4, 5) ➞ 120\n"
     ]
    }
   ],
   "source": [
    "def combinations(*args):\n",
    "    count=1\n",
    "    for i in args:\n",
    "        count = count*i\n",
    "    print(f'combinations{args} ➞ {count}')\n",
    "# a = (3,7,4,5,6)\n",
    "# count=1\n",
    "# for i in a:\n",
    "#     count =count* i\n",
    "# print(count)\n",
    "combinations(2,3,4)\n",
    "combinations(3, 7, 4)\n",
    "combinations(2, 3, 4, 5)"
   ]
  },
  {
   "cell_type": "markdown",
   "id": "3b903686",
   "metadata": {},
   "source": [
    "### 3.Create a function that takes a string as an argument and returns the Morse code equivalent.<br>\n",
    "`encode_morse(\"EDABBIT CHALLENGE\") ➞ \". -.. .- -... -... .. - -.-. .... .- .-.. .-... -. --. .\"\n",
    "encode_morse(\"HELP ME !\") ➞ \".... . .-.. .--. -- . -.-.--\"\n",
    "This dictionary can be used for coding:\n",
    "char_to_dots = { 'A': '.-', 'B': '-...', 'C': '-.-.', 'D': '-..', 'E': '.', 'F': '..-.', 'G': '--.', 'H': '....', 'I': '..', 'J': '.---', 'K': '-.-', 'L': '.-..', 'M': '--', 'N': '-.', 'O': '---', 'P': '.--.', 'Q': '--.-', 'R': '.-.', 'S': '...', 'T': '-', 'U': '..-', 'V': '...-', 'W': '.--', 'X': '-..-', 'Y': '-.--', 'Z': '--..', ' ': ' ', '0': '-----', '1': '.----', '2': '..---', '3': '...--', '4': '....-', '5': '.....', '6': '-....', '7': '--...', '8': '---..', '9': '----.', '&': '.-...', \"'\": '.----.', '@': '.--.-.', ')': '-.--.-', '(': '-.--.', ':': '---...', ',': '--..--', '=': '-...-', '!': '-.-.--', '.': '.-.-.-', '-': '-....-', '+': '.-.-.', '\"': '.-..-.', '?': '..--..', '/': '-..-.' }`"
   ]
  },
  {
   "cell_type": "code",
   "execution_count": 26,
   "id": "2fc4300d",
   "metadata": {},
   "outputs": [
    {
     "name": "stdout",
     "output_type": "stream",
     "text": [
      "EDABBIT CHALLENGE ➞ {' . -.. .- -... -... .. -   -.-. .... .- .-.. .-.. . -. --. .'}\n",
      "HELP ME ! ➞ {' .... . .-.. .--.   -- .   -.-.--'}\n"
     ]
    }
   ],
   "source": [
    "char_to_dots = { 'A': '.-', 'B': '-...', 'C': '-.-.', 'D': '-..', 'E': '.', 'F': '..-.', 'G': '--.', 'H': '....', 'I': '..', 'J': '.---', 'K': '-.-', 'L': '.-..', 'M': '--', 'N': '-.', 'O': '---', 'P': '.--.', 'Q': '--.-', 'R': '.-.', 'S': '...', 'T': '-', 'U': '..-', 'V': '...-', 'W': '.--', 'X': '-..-', 'Y': '-.--', 'Z': '--..', ' ': ' ', '0': '-----', '1': '.----', '2': '..---', '3': '...--', '4': '....-', '5': '.....', '6': '-....', '7': '--...', '8': '---..', '9': '----.', '&': '.-...', \"'\": '.----.', '@': '.--.-.', ')': '-.--.-', '(': '-.--.', ':': '---...', ',': '--..--', '=': '-...-', '!': '-.-.--', '.': '.-.-.-', '-': '-....-', '+': '.-.-.', '\"': '.-..-.', '?': '..--..', '/': '-..-.' }\n",
    "def encode_morse(string):\n",
    "    b=''\n",
    "    b=b.join(\" \" + char_to_dots[i] for i in string)\n",
    "    print(f'{string} ➞',{b}) \n",
    "\n",
    "encode_morse(\"EDABBIT CHALLENGE\")\n",
    "encode_morse(\"HELP ME !\")"
   ]
  },
  {
   "cell_type": "code",
   "execution_count": 18,
   "id": "28c059f7",
   "metadata": {},
   "outputs": [
    {
     "name": "stdout",
     "output_type": "stream",
     "text": [
      "['....', '---', '.--', ' ', '.-', '.-.', '.', ' ', '-.--', '---', '..-']\n"
     ]
    }
   ],
   "source": [
    "b=[]\n",
    "a='HOW ARE YOU'\n",
    "for i in a:\n",
    "    if i in char_to_dots.keys():\n",
    "        b.append(char_to_dots[i])\n",
    "print(b) "
   ]
  },
  {
   "cell_type": "markdown",
   "id": "4f02a85d",
   "metadata": {},
   "source": [
    "### 4.Write a function that takes a number and returns True if it's a prime; False otherwise. The number can be 2^64-1 (2 to the power of 63, not XOR). With the standard technique it would be O(2^64-1), which is much too large for the 10 second time limit.\n",
    "Examples:\n",
    "prime(7) ➞ True<br>\n",
    "prime(56963) ➞ True<br>\n",
    "prime(5151512515524) ➞ False<br>"
   ]
  },
  {
   "cell_type": "code",
   "execution_count": 32,
   "id": "801cdd65",
   "metadata": {},
   "outputs": [],
   "source": [
    "import math\n",
    "def is_prime(n):\n",
    "  if n <= 1:\n",
    "    return False\n",
    "  for i in range(2, int(math.sqrt(n)) + 1):\n",
    "    if n % i == 0:\n",
    "      return False\n",
    "  return True"
   ]
  },
  {
   "cell_type": "code",
   "execution_count": 33,
   "id": "c8e1451b",
   "metadata": {},
   "outputs": [
    {
     "data": {
      "text/plain": [
       "False"
      ]
     },
     "execution_count": 33,
     "metadata": {},
     "output_type": "execute_result"
    }
   ],
   "source": [
    "is_prime(5151512515524)"
   ]
  },
  {
   "cell_type": "code",
   "execution_count": 30,
   "id": "530c3ca9",
   "metadata": {},
   "outputs": [
    {
     "name": "stdout",
     "output_type": "stream",
     "text": [
      "Prime\n"
     ]
    }
   ],
   "source": [
    "n = 5\n",
    "counter = 0\n",
    "for i in range(2,n):\n",
    "    if n % i == 0:\n",
    "        counter += 1\n",
    "if counter == 0:\n",
    "    print('Prime')\n",
    "else:\n",
    "    print('Not Prime')"
   ]
  },
  {
   "cell_type": "code",
   "execution_count": 29,
   "id": "c033d8c1",
   "metadata": {},
   "outputs": [
    {
     "name": "stdout",
     "output_type": "stream",
     "text": [
      "True\n",
      "True\n",
      "False\n"
     ]
    }
   ],
   "source": [
    "import math\n",
    "\n",
    "prime = lambda x: all(x % i != 0 for i in range(2, int(math.sqrt(x)) + 1))\n",
    "\n",
    "print(prime(7))\n",
    "print(prime(56963))\n",
    "print(prime(5151512515524))"
   ]
  },
  {
   "cell_type": "code",
   "execution_count": 27,
   "id": "88515b5a",
   "metadata": {},
   "outputs": [
    {
     "name": "stdout",
     "output_type": "stream",
     "text": [
      "True\n",
      "True\n",
      "True\n"
     ]
    }
   ],
   "source": [
    "def prime(n):\n",
    "    if n < 2:\n",
    "        return False\n",
    "\n",
    "    m = (n - 1) // 2\n",
    "    k = 0\n",
    "    while m % 2 == 0:\n",
    "        m //= 2\n",
    "        k += 1\n",
    "\n",
    "    for _ in range(k):\n",
    "        a = 2\n",
    "        b = pow(a, m, n)\n",
    "        if b == 1 or b == n - 1:\n",
    "            continue\n",
    "        for _ in range(k - 1):\n",
    "            b = pow(b, 2, n)\n",
    "            if b == n - 1:\n",
    "                break\n",
    "        else:\n",
    "            return False\n",
    "    return True\n",
    "\n",
    "print(prime(7))\n",
    "print(prime(56963))\n",
    "print(prime(5151512515524))"
   ]
  },
  {
   "cell_type": "code",
   "execution_count": null,
   "id": "15a674db",
   "metadata": {},
   "outputs": [],
   "source": []
  }
 ],
 "metadata": {
  "kernelspec": {
   "display_name": "Python 3 (ipykernel)",
   "language": "python",
   "name": "python3"
  },
  "language_info": {
   "codemirror_mode": {
    "name": "ipython",
    "version": 3
   },
   "file_extension": ".py",
   "mimetype": "text/x-python",
   "name": "python",
   "nbconvert_exporter": "python",
   "pygments_lexer": "ipython3",
   "version": "3.9.7"
  }
 },
 "nbformat": 4,
 "nbformat_minor": 5
}
