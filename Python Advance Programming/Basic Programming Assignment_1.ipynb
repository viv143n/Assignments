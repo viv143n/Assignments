{
 "cells": [
  {
   "cell_type": "markdown",
   "id": "09fbc47e",
   "metadata": {},
   "source": [
    "# Assignment 1 : Python Programming Basic\n",
    "## 1. Write a Python program to print \"Hello Python\"?"
   ]
  },
  {
   "cell_type": "code",
   "execution_count": 1,
   "id": "5b622216",
   "metadata": {},
   "outputs": [
    {
     "name": "stdout",
     "output_type": "stream",
     "text": [
      "Hello World\n"
     ]
    },
    {
     "data": {
      "text/plain": [
       "'Hello World'"
      ]
     },
     "execution_count": 1,
     "metadata": {},
     "output_type": "execute_result"
    }
   ],
   "source": [
    "print(\"Hello World\")\n",
    "\n",
    "#Or\n",
    "\n",
    "def word(x:str):\n",
    "    '''This program gonna return any string u type'''\n",
    "    return(f'{(x)}')\n",
    "word('Hello World')"
   ]
  },
  {
   "cell_type": "markdown",
   "id": "1a9b2f51",
   "metadata": {},
   "source": [
    "## 2. Write a Python program to do arithmetical operations addition and division?"
   ]
  },
  {
   "cell_type": "code",
   "execution_count": 2,
   "id": "c86a989c",
   "metadata": {},
   "outputs": [
    {
     "name": "stdout",
     "output_type": "stream",
     "text": [
      "12 1.4\n"
     ]
    },
    {
     "data": {
      "text/plain": [
       "50.0"
      ]
     },
     "execution_count": 2,
     "metadata": {},
     "output_type": "execute_result"
    }
   ],
   "source": [
    "a=5\n",
    "b=7\n",
    "add = a+b\n",
    "div = 7/5\n",
    "print(add,div)\n",
    "\n",
    "# OR\n",
    "\n",
    "def addition(x:int,y:int):\n",
    "    return(x+y)\n",
    "def division(x:int,y:int):\n",
    "    return(x/y)\n",
    "addition(55,45)\n",
    "division(100,2)"
   ]
  },
  {
   "cell_type": "markdown",
   "id": "d4735a0b",
   "metadata": {},
   "source": [
    "## 3. Write a Python program to find the area of a triangle?"
   ]
  },
  {
   "cell_type": "code",
   "execution_count": 3,
   "id": "11db7fd2",
   "metadata": {},
   "outputs": [
    {
     "data": {
      "text/plain": [
       "'Area of triangle base 2 and Height 3 is 3.0'"
      ]
     },
     "execution_count": 3,
     "metadata": {},
     "output_type": "execute_result"
    }
   ],
   "source": [
    "def area_of_traingle(b:int,h:int):\n",
    "    return f'Area of triangle base {b} and Height {h} is ' +str(0.5*b*h)\n",
    "area_of_traingle(2,3)    "
   ]
  },
  {
   "cell_type": "markdown",
   "id": "8ccfdccb",
   "metadata": {},
   "source": [
    "## 4. Write a Python program to swap two variables?"
   ]
  },
  {
   "cell_type": "code",
   "execution_count": 5,
   "id": "fc441513",
   "metadata": {},
   "outputs": [
    {
     "data": {
      "text/plain": [
       "(58, 73)"
      ]
     },
     "execution_count": 5,
     "metadata": {},
     "output_type": "execute_result"
    }
   ],
   "source": [
    "def Swap(x:any,y:any)-> any:\n",
    "    x,y = y,x\n",
    "    return x,y\n",
    "Swap(73  ,58 )"
   ]
  },
  {
   "cell_type": "markdown",
   "id": "4d53c3f1",
   "metadata": {},
   "source": [
    "## 5. Write a Python program to generate a random number?"
   ]
  },
  {
   "cell_type": "code",
   "execution_count": null,
   "id": "cc8730b2",
   "metadata": {},
   "outputs": [],
   "source": [
    "import random\n",
    "def rd_gen(x,y):\n",
    "    \"\"\"Enter any number for genrating random numbers between the given numbers\"\"\"\n",
    "    "
   ]
  }
 ],
 "metadata": {
  "kernelspec": {
   "display_name": "Python 3 (ipykernel)",
   "language": "python",
   "name": "python3"
  },
  "language_info": {
   "codemirror_mode": {
    "name": "ipython",
    "version": 3
   },
   "file_extension": ".py",
   "mimetype": "text/x-python",
   "name": "python",
   "nbconvert_exporter": "python",
   "pygments_lexer": "ipython3",
   "version": "3.9.7"
  }
 },
 "nbformat": 4,
 "nbformat_minor": 5
}
