{
 "cells": [
  {
   "cell_type": "markdown",
   "id": "9a9b8aa0",
   "metadata": {},
   "source": [
    "### 1 . Write a function that takes a positive integer num and calculates how many dots exist in a pentagonal shape around the center dot on the Nth iteration.<br>\n",
    "In the image below you can see the first iteration is only a single dot. On the second, there are 6 dots. On the third, there are 16 dots, and on the fourth there are 31 dots.<br>\n",
    "<img src=\"https://i.stack.imgur.com/YWlKr.png\" alt=\"drawing\" style=\"width:500px;\"/>\n",
    "\n",
    "*Example:*<br>\n",
    "`pentagonal(1) ➞ 1`<br>\n",
    "`pentagonal(2) ➞ 6`<br>\n",
    "`pentagonal(3) ➞ 16`<br>\n",
    "`pentagonal(8) ➞ 141`<br>"
   ]
  },
  {
   "cell_type": "code",
   "execution_count": 3,
   "id": "1d61cfa4",
   "metadata": {},
   "outputs": [
    {
     "name": "stdout",
     "output_type": "stream",
     "text": [
      "pentagonal(1) ➞ 1\n",
      "pentagonal(2) ➞ 6\n",
      "pentagonal(3) ➞ 16\n",
      "pentagonal(8) ➞ 141\n"
     ]
    }
   ],
   "source": [
    "#We can perform this with the help of ax2+bx+c formula from maths.\n",
    "def pentagonal(x:int)->int:\n",
    "    if x >= 1:\n",
    "        a = 2.5\n",
    "        b = -2.5\n",
    "        c = 1\n",
    "        formula = round(a*pow(x,2) + b*x + c)\n",
    "    return f'pentagonal({x}) ➞ {formula}'\n",
    "\n",
    "print(pentagonal(1))\n",
    "print(pentagonal(2))\n",
    "print(pentagonal(3))\n",
    "print(pentagonal(8))"
   ]
  },
  {
   "cell_type": "markdown",
   "id": "cd44f806",
   "metadata": {},
   "source": [
    "## 2.. Make a function that encrypts a given input with these steps:\n",
    "Input: \"apple\"\n",
    "Step 1: Reverse the input: \"elppa\"\n",
    "Step 2: Replace all vowels using the following chart:<br>\n",
    "`a => 0\n",
    "e => 1\n",
    "i => 2\n",
    "o => 2\n",
    "u => 3`\n",
    "# \"1lpp0\"\n",
    "`Step 3: Add \"aca\" to the end of the word: \"1lpp0aca\"\n",
    "Output: \"1lpp0aca\"\n",
    "Examples:\n",
    "encrypt(\"banana\") ➞ \"0n0n0baca\"\n",
    "encrypt(\"karaca\") ➞ \"0c0r0kaca\"\n",
    "encrypt(\"burak\") ➞ \"k0r3baca\"\n",
    "encrypt(\"alpaca\") ➞ \"0c0pl0aca\"`"
   ]
  },
  {
   "cell_type": "code",
   "execution_count": 19,
   "id": "e18f5851",
   "metadata": {},
   "outputs": [
    {
     "name": "stdout",
     "output_type": "stream",
     "text": [
      "<reversed object at 0x000001F76E9DCD00>\n",
      "['a', 'n', 'a', 'n', 'a', 'b']\n",
      "[0, 'n', 0, 'n', 0, 'b']\n",
      "0n0n0baca\n"
     ]
    }
   ],
   "source": [
    "#Simple approach\n",
    "a =\"banana\"\n",
    "b = reversed(a)\n",
    "print(b)\n",
    "c=[]\n",
    "for i in b:\n",
    "    c.append(i)    \n",
    "print(c)\n",
    "vow=[]\n",
    "dic={'a': 0,'e': 1,'i': 2,'o': 2,'u':3}\n",
    "for j in c:\n",
    "    \n",
    "    if j not in dic.keys():\n",
    "        vow.append(j)\n",
    "    else:\n",
    "         vow.append(dic[j])\n",
    "print(vow)\n",
    "st =''.join(str(i) for i in vow)\n",
    "st_added=st+'aca'\n",
    "print(st_added)"
   ]
  },
  {
   "cell_type": "code",
   "execution_count": 31,
   "id": "46451911",
   "metadata": {},
   "outputs": [],
   "source": [
    "def encrypt(x):\n",
    "    dic={'a': 0,'e': 1,'i': 2,'o': 2,'u':3}\n",
    "    b = reversed(x)\n",
    "    c=[]\n",
    "    vow=[]\n",
    "    for ele in b:\n",
    "        c.append(ele)       \n",
    "    for ele in c:\n",
    "        if ele not in dic.keys():\n",
    "            vow.append(ele)\n",
    "        else:\n",
    "            vow.append(dic[ele])\n",
    "    st =''.join(str(i) for i in vow)\n",
    "    st_added=st+'aca'\n",
    "    return st_added"
   ]
  },
  {
   "cell_type": "code",
   "execution_count": 32,
   "id": "7ba1a70c",
   "metadata": {},
   "outputs": [
    {
     "data": {
      "text/plain": [
       "'k0r3baca'"
      ]
     },
     "execution_count": 32,
     "metadata": {},
     "output_type": "execute_result"
    }
   ],
   "source": [
    "encrypt(\"burak\")"
   ]
  },
  {
   "cell_type": "markdown",
   "id": "90405d49",
   "metadata": {},
   "source": [
    "## 3.Given the month and year as numbers, return whether that month contains a Friday 13th.(i.e You can check Python's datetime module)`\n",
    "`Examples:\n",
    "has_friday_13(3, 2020) ➞ True\n",
    "has_friday_13(10, 2017) ➞ True\n",
    "has_friday_13(1, 1985) ➞ False`"
   ]
  },
  {
   "cell_type": "code",
   "execution_count": 59,
   "id": "f52c3b53",
   "metadata": {},
   "outputs": [],
   "source": [
    "from datetime import date\n",
    "\n",
    "def has_friday_13(month,year):\n",
    "    day = date(year,month,13)\n",
    "    if day.weekday() == 4:\n",
    "        return f'has_friday_13({day}) ➞ True'\n",
    "    else:\n",
    "        return f'has_friday_13({day}) ➞ False' "
   ]
  },
  {
   "cell_type": "code",
   "execution_count": 60,
   "id": "e6265f97",
   "metadata": {},
   "outputs": [
    {
     "name": "stdout",
     "output_type": "stream",
     "text": [
      "has_friday_13(2020-03-13) ➞ True\n",
      "has_friday_13(2017-10-13) ➞ True\n",
      "has_friday_13(1985-01-13) ➞ False\n"
     ]
    }
   ],
   "source": [
    "print(has_friday_13(3, 2020))\n",
    "print(has_friday_13(10, 2017))\n",
    "print(has_friday_13(1, 1985))"
   ]
  },
  {
   "cell_type": "markdown",
   "id": "885dedd8",
   "metadata": {},
   "source": [
    "## 4.Write a regular expression that will help us count how many bad cookies are produced every day. You must use RegEx negative lookbehind.\n",
    "`Examples:\n",
    "lst = [\"bad cookie\", \"good cookie\", \"bad cookie\", \"good cookie\", \"good cookie\"]\n",
    "pattern = \"yourregularexpressionhere\"\n",
    "len(re.findall(pattern, \", \".join(lst))) ➞ 2`"
   ]
  },
  {
   "cell_type": "code",
   "execution_count": 67,
   "id": "b68c2837",
   "metadata": {},
   "outputs": [],
   "source": [
    "import re\n",
    "lst = [\"bad cookie\", \"good cookie\", \"bad cookie\", \"good cookie\", \"good cookie\"]\n",
    "def bad_cookie_finder(x:list[str])->str:\n",
    "    pattern = r\"bad\\ [a-zA-Z]*\"\n",
    "    ans = len(re.findall(pattern, \", \".join(x)))\n",
    "    return f'Bad cookies in list are :{ans}'"
   ]
  },
  {
   "cell_type": "code",
   "execution_count": 69,
   "id": "4fef9675",
   "metadata": {},
   "outputs": [
    {
     "name": "stdout",
     "output_type": "stream",
     "text": [
      "Bad cookies in list are :2\n"
     ]
    }
   ],
   "source": [
    "print(bad_cookie_finder(lst))"
   ]
  },
  {
   "cell_type": "markdown",
   "id": "e582f3b4",
   "metadata": {},
   "source": [
    "## 5.. Given a list of words in the singular form, return a set of those words in the plural form if they appear more than once in the list.\n",
    "`Examples:\n",
    "pluralize([\"cow\", \"pig\", \"cow\", \"cow\"]) ➞ { \"cows\", \"pig\" }\n",
    "pluralize([\"table\", \"table\", \"table\"]) ➞ { \"tables\" }\n",
    "pluralize([\"chair\", \"pencil\", \"arm\"]) ➞ { \"chair\", \"pencil\", \"arm\" }`"
   ]
  },
  {
   "cell_type": "code",
   "execution_count": 73,
   "id": "4d558570",
   "metadata": {},
   "outputs": [
    {
     "data": {
      "text/plain": [
       "['cow', 'pig', 'cow', 'cow']"
      ]
     },
     "execution_count": 73,
     "metadata": {},
     "output_type": "execute_result"
    }
   ],
   "source": [
    "a =[\"cow\", \"pig\", \"cow\", \"cow\"]\n",
    "a"
   ]
  },
  {
   "cell_type": "code",
   "execution_count": 110,
   "id": "f9232020",
   "metadata": {},
   "outputs": [],
   "source": [
    "def pluralize(x:list[str])->str:\n",
    "    count = {}\n",
    "    se = set()\n",
    "    for i in x:\n",
    "        if i in count:\n",
    "            count[i] =count[i]+ 1\n",
    "        else:\n",
    "            count[i] = 1\n",
    "    for i,j in zip(count.keys(),count.values()):\n",
    "        if j>1:\n",
    "            se.add(i+'s')\n",
    "        else:\n",
    "            se.add(i)\n",
    "    return se\n",
    "        "
   ]
  },
  {
   "cell_type": "code",
   "execution_count": 113,
   "id": "dd118f3f",
   "metadata": {},
   "outputs": [
    {
     "name": "stdout",
     "output_type": "stream",
     "text": [
      "{'cows', 'pig'}\n",
      "{'tables'}\n",
      "{'arm', 'pencil', 'chair'}\n"
     ]
    }
   ],
   "source": [
    "print(pluralize([\"cow\", \"pig\", \"cow\", \"cow\"]))\n",
    "print(pluralize([\"table\", \"table\", \"table\"]))\n",
    "print(pluralize([\"chair\", \"pencil\", \"arm\"]))"
   ]
  }
 ],
 "metadata": {
  "kernelspec": {
   "display_name": "Python 3 (ipykernel)",
   "language": "python",
   "name": "python3"
  },
  "language_info": {
   "codemirror_mode": {
    "name": "ipython",
    "version": 3
   },
   "file_extension": ".py",
   "mimetype": "text/x-python",
   "name": "python",
   "nbconvert_exporter": "python",
   "pygments_lexer": "ipython3",
   "version": "3.9.7"
  }
 },
 "nbformat": 4,
 "nbformat_minor": 5
}
