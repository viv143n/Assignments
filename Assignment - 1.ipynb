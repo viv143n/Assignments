{
 "cells": [
  {
   "cell_type": "markdown",
   "id": "c9e44bc5",
   "metadata": {},
   "source": [
    "### Exercise 1: Print First 10 natural numbers using while loop"
   ]
  },
  {
   "cell_type": "code",
   "execution_count": 1,
   "id": "8dd937b3",
   "metadata": {},
   "outputs": [
    {
     "name": "stdout",
     "output_type": "stream",
     "text": [
      "0\n",
      "1\n",
      "2\n",
      "3\n",
      "4\n",
      "5\n",
      "6\n",
      "7\n",
      "8\n",
      "9\n",
      "10\n"
     ]
    }
   ],
   "source": [
    "#Method 1(range(start, stop, step))\n",
    "for i in range(0,11):\n",
    "    print(i)"
   ]
  },
  {
   "cell_type": "code",
   "execution_count": 2,
   "id": "47aa7a8c",
   "metadata": {},
   "outputs": [
    {
     "name": "stdout",
     "output_type": "stream",
     "text": [
      "1\n",
      "2\n",
      "3\n",
      "4\n",
      "5\n",
      "6\n",
      "7\n",
      "8\n",
      "9\n",
      "10\n"
     ]
    }
   ],
   "source": [
    "# Method 2\n",
    "i = 1\n",
    "while i < 11:\n",
    "    print(i)\n",
    "    i += 1"
   ]
  },
  {
   "cell_type": "markdown",
   "id": "1d6130ed",
   "metadata": {},
   "source": [
    "### Exercise 2: Calculate the sum of all numbers from 1 to a given number"
   ]
  },
  {
   "cell_type": "code",
   "execution_count": 16,
   "id": "686b0871",
   "metadata": {},
   "outputs": [
    {
     "name": "stdout",
     "output_type": "stream",
     "text": [
      "Enter any number13\n",
      "91\n"
     ]
    }
   ],
   "source": [
    "Number = int(input('Enter any number'))\n",
    "Total = 0\n",
    "for i in range(Number+1):#+1 as we pas 10 its will not add 10th so +1 will add 10.\n",
    "    Total+=i\n",
    "print(Total)"
   ]
  },
  {
   "cell_type": "markdown",
   "id": "470662f8",
   "metadata": {},
   "source": [
    "### Exercise 3: Python for loop\n",
    "After flipping a coin 10 times you got this result,\n",
    "Using for loop figure out how many times you got heads"
   ]
  },
  {
   "cell_type": "code",
   "execution_count": 4,
   "id": "dcd46490",
   "metadata": {},
   "outputs": [
    {
     "name": "stdout",
     "output_type": "stream",
     "text": [
      "its 6 times\n"
     ]
    }
   ],
   "source": [
    "result = [\"heads\",\"tails\",\"tails\",\"heads\",\"tails\",\"heads\",\"heads\",\"tails\",\"tails\",\"tails\"]\n",
    "count =0\n",
    "for i in result:\n",
    "    if i == \"tails\":\n",
    "        count +=1\n",
    "print('its',count,'times')"
   ]
  },
  {
   "cell_type": "markdown",
   "id": "14fdd7e8",
   "metadata": {},
   "source": [
    "### Exercise 4 .write a code to give the Addition of 2 Number from the input"
   ]
  },
  {
   "cell_type": "code",
   "execution_count": 5,
   "id": "a3417fa0",
   "metadata": {},
   "outputs": [
    {
     "name": "stdout",
     "output_type": "stream",
     "text": [
      "Enter 1st No55\n",
      "Enter 2nd no22\n",
      "77\n"
     ]
    }
   ],
   "source": [
    "a = int(input('Enter 1st No'))\n",
    "b = int(input('Enter 2nd no'))\n",
    "c = a+b\n",
    "print(c)"
   ]
  },
  {
   "cell_type": "markdown",
   "id": "918b6524",
   "metadata": {},
   "source": [
    "### Exercise 5.Write a program to print multiplication table of a given number"
   ]
  },
  {
   "cell_type": "code",
   "execution_count": 15,
   "id": "5c0685ba",
   "metadata": {},
   "outputs": [
    {
     "name": "stdout",
     "output_type": "stream",
     "text": [
      "Enter a table number19\n",
      "19\n",
      "38\n",
      "57\n",
      "76\n",
      "95\n",
      "114\n",
      "133\n",
      "152\n",
      "171\n",
      "190\n"
     ]
    }
   ],
   "source": [
    "number  =int(input(\"Enter a table number\"))\n",
    "i = 1 \n",
    "while i<11:\n",
    "    print(number*i)\n",
    "    i+=1   "
   ]
  },
  {
   "cell_type": "code",
   "execution_count": null,
   "id": "9618714b",
   "metadata": {},
   "outputs": [],
   "source": []
  }
 ],
 "metadata": {
  "kernelspec": {
   "display_name": "Python 3 (ipykernel)",
   "language": "python",
   "name": "python3"
  },
  "language_info": {
   "codemirror_mode": {
    "name": "ipython",
    "version": 3
   },
   "file_extension": ".py",
   "mimetype": "text/x-python",
   "name": "python",
   "nbconvert_exporter": "python",
   "pygments_lexer": "ipython3",
   "version": "3.9.7"
  }
 },
 "nbformat": 4,
 "nbformat_minor": 5
}
