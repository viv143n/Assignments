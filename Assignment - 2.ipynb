{
 "cells": [
  {
   "cell_type": "markdown",
   "id": "99b1113b",
   "metadata": {},
   "source": [
    "### Exercise: 1 Write a program to display only those numbers from a list that satisfy the following conditions:\n",
    "\n",
    "* The number must be divisible by five\n",
    "* If the number is greater than 150, then skip it and move to the next number\n",
    "* If the number is greater than 500, then stop the loop"
   ]
  },
  {
   "cell_type": "code",
   "execution_count": 10,
   "id": "7268fc3d",
   "metadata": {},
   "outputs": [
    {
     "name": "stdout",
     "output_type": "stream",
     "text": [
      "75\n",
      "150\n",
      "145\n"
     ]
    }
   ],
   "source": [
    "n = [12, 75, 150, 180, 145, 525, 50]\n",
    "for i in (n):\n",
    "    if i>500:\n",
    "        break\n",
    "    elif i>150:\n",
    "        continue\n",
    "    elif i%5==0:\n",
    "        print(i)"
   ]
  },
  {
   "cell_type": "code",
   "execution_count": 2,
   "id": "8ea83653",
   "metadata": {},
   "outputs": [
    {
     "name": "stdout",
     "output_type": "stream",
     "text": [
      "75\n",
      "150\n",
      "180\n",
      "145\n",
      "525\n",
      "50\n"
     ]
    }
   ],
   "source": [
    "for i in (n):\n",
    "    if i%5 == 0:\n",
    "        print(i)\n",
    "    elif i>500:\n",
    "        break\n",
    "    elif i>150:\n",
    "        continue"
   ]
  },
  {
   "cell_type": "code",
   "execution_count": 3,
   "id": "885238c7",
   "metadata": {},
   "outputs": [
    {
     "name": "stdout",
     "output_type": "stream",
     "text": [
      "d\n",
      "b\n",
      "k\n",
      "t\n",
      "u\n"
     ]
    }
   ],
   "source": [
    "d = [ 1,2,3,4,5,'d','b',1,'k',7,8,'t','u']\n",
    "#b=[1,2,3,4,5,6,7,8,9,10]\n",
    "for i in (d):\n",
    "    if type(i)==str:\n",
    "        print(i)"
   ]
  },
  {
   "cell_type": "code",
   "execution_count": 4,
   "id": "cf977a53",
   "metadata": {},
   "outputs": [
    {
     "data": {
      "text/plain": [
       "str"
      ]
     },
     "execution_count": 4,
     "metadata": {},
     "output_type": "execute_result"
    }
   ],
   "source": [
    "type(d[5])"
   ]
  },
  {
   "cell_type": "markdown",
   "id": "4a6fa0b0",
   "metadata": {},
   "source": [
    "### Exercise 3: Print the following pattern\n",
    "* Write a program to use for loop to print the following reverse number pattern\n",
    "\n",
    "\n",
    "* 5 4 3 2 1 \n",
    "* 4 3 2 1 \n",
    "* 3 2 1 \n",
    "* 2 1 \n",
    "* 1"
   ]
  },
  {
   "cell_type": "code",
   "execution_count": 41,
   "id": "8a56f8a4",
   "metadata": {},
   "outputs": [
    {
     "name": "stdout",
     "output_type": "stream",
     "text": [
      "5 5 5 5 5 \n",
      "4 4 4 4 \n",
      "3 3 3 \n",
      "2 2 \n",
      "1 \n"
     ]
    }
   ],
   "source": [
    "for i in range(5,0,-1):\n",
    "    for j in range(i):\n",
    "        print(i,end=' ')\n",
    "    print()       "
   ]
  },
  {
   "cell_type": "code",
   "execution_count": 6,
   "id": "79d5c446",
   "metadata": {},
   "outputs": [
    {
     "name": "stdout",
     "output_type": "stream",
     "text": [
      "\n",
      "1 \n",
      "2 2 \n",
      "3 3 3 \n",
      "4 4 4 4 \n"
     ]
    }
   ],
   "source": [
    "for i in range(5):\n",
    "    for j in range (i):\n",
    "        print(i,end=' ')\n",
    "    print()"
   ]
  },
  {
   "cell_type": "code",
   "execution_count": 7,
   "id": "aeb2262d",
   "metadata": {},
   "outputs": [
    {
     "name": "stdout",
     "output_type": "stream",
     "text": [
      "5 4 3 2 1 \n",
      "4 3 2 1 \n",
      "3 2 1 \n",
      "2 1 \n",
      "1 \n",
      "\n"
     ]
    }
   ],
   "source": [
    "n = 5\n",
    "k = 5\n",
    "for i in range(0,n+1):\n",
    "    for j in range(k-i,0,-1):\n",
    "        print(j,end=' ')\n",
    "    print()"
   ]
  },
  {
   "cell_type": "code",
   "execution_count": 8,
   "id": "4d6cc257",
   "metadata": {},
   "outputs": [
    {
     "name": "stdout",
     "output_type": "stream",
     "text": [
      "c\n",
      "o\n",
      "d\n",
      "e\n"
     ]
    }
   ],
   "source": [
    "s= \"code\"\n",
    "for i in s:\n",
    "    print(i)\n"
   ]
  },
  {
   "cell_type": "code",
   "execution_count": 9,
   "id": "2ce4870b",
   "metadata": {},
   "outputs": [
    {
     "name": "stdout",
     "output_type": "stream",
     "text": [
      "fff\n"
     ]
    }
   ],
   "source": [
    "List = [ \"sss\",\"bbb\",\"fff\"]\n",
    "for i in List:\n",
    "    i==\"fff\"\n",
    "print(i)\n",
    "    "
   ]
  },
  {
   "cell_type": "code",
   "execution_count": 10,
   "id": "beddf3e9",
   "metadata": {},
   "outputs": [
    {
     "name": "stdout",
     "output_type": "stream",
     "text": [
      "0\n",
      "1\n",
      "2\n",
      "3\n",
      "4\n",
      "5\n"
     ]
    }
   ],
   "source": [
    "for x in range(6):\n",
    "    print(x)"
   ]
  },
  {
   "cell_type": "code",
   "execution_count": 11,
   "id": "8d01562c",
   "metadata": {},
   "outputs": [
    {
     "name": "stdout",
     "output_type": "stream",
     "text": [
      "a$b$c$d$e$f$g$"
     ]
    }
   ],
   "source": [
    "for i in \"abcdefg\":\n",
    "    print(i,end=\"$\")"
   ]
  },
  {
   "cell_type": "code",
   "execution_count": 12,
   "id": "406e9008",
   "metadata": {},
   "outputs": [
    {
     "name": "stdout",
     "output_type": "stream",
     "text": [
      "50\n",
      "60\n",
      "70\n",
      "80\n",
      "90\n",
      "100\n",
      "110\n",
      "120\n",
      "130\n",
      "140\n"
     ]
    }
   ],
   "source": [
    "for i in range(50,150,10):\n",
    "    print(i)"
   ]
  },
  {
   "cell_type": "code",
   "execution_count": 13,
   "id": "a63d7fb8",
   "metadata": {},
   "outputs": [
    {
     "name": "stdout",
     "output_type": "stream",
     "text": [
      "0\n",
      "1\n",
      "2\n",
      "3\n",
      "4\n",
      "5\n"
     ]
    }
   ],
   "source": [
    "for i in range (10):\n",
    "    print(i)\n",
    "    if i==5:\n",
    "        break\n",
    "        "
   ]
  },
  {
   "cell_type": "markdown",
   "id": "b0120e2e",
   "metadata": {},
   "source": [
    "### Exercise 2: Guessing Game\n",
    "* Create a algorithm to guess a number(1,100) from user and check whether its right or not  "
   ]
  },
  {
   "cell_type": "code",
   "execution_count": 4,
   "id": "5d6075ea",
   "metadata": {},
   "outputs": [
    {
     "name": "stdout",
     "output_type": "stream",
     "text": [
      "Enter a Guess Number80\n",
      "Enter Lower Number\n",
      "Enter a Guess Number70\n",
      "Enter Lower Number\n",
      "Enter a Guess Number60\n",
      "Enter Lower Number\n",
      "Enter a Guess Number50\n",
      "Correct,You Won.But You took 4 Attempts\n"
     ]
    }
   ],
   "source": [
    "import random\n",
    "jackpot = random.randint(1,100)\n",
    "predict = int(input(\"Enter a Guess Number\"))\n",
    "count=1\n",
    "while  predict != jackpot:\n",
    "    if predict < jackpot:\n",
    "        print(\"Enter higher \")\n",
    "    else:\n",
    "        print(\"Enter Lower Number\")\n",
    "    \n",
    "    predict = int(input(\"Enter a Guess Number\"))\n",
    "    count += 1\n",
    "            \n",
    "print(\"Correct,You Won.But You took\",count,\"Attempts\")"
   ]
  },
  {
   "cell_type": "code",
   "execution_count": 14,
   "id": "aeae96e8",
   "metadata": {},
   "outputs": [
    {
     "name": "stdout",
     "output_type": "stream",
     "text": [
      "4\n",
      "10\n",
      "16\n",
      "22\n",
      "28\n",
      "34\n",
      "40\n",
      "46\n",
      "52\n",
      "58\n",
      "64\n"
     ]
    }
   ],
   "source": [
    "for i in range(1,70,3):\n",
    "    if i%2==0:\n",
    "        print(i)\n",
    "        "
   ]
  },
  {
   "cell_type": "code",
   "execution_count": 15,
   "id": "a13254b1",
   "metadata": {},
   "outputs": [
    {
     "name": "stdout",
     "output_type": "stream",
     "text": [
      "4\n"
     ]
    }
   ],
   "source": [
    "for i in range(10):\n",
    "    if(i==4):\n",
    "       \n",
    "        print(i)"
   ]
  },
  {
   "cell_type": "code",
   "execution_count": 16,
   "id": "57bc9a63",
   "metadata": {},
   "outputs": [
    {
     "name": "stdout",
     "output_type": "stream",
     "text": [
      "12\n",
      "150\n",
      "180\n",
      "50\n"
     ]
    }
   ],
   "source": [
    "n =[ 12, 75, 150, 180, 145, 525, 50]\n",
    "for i in (n):\n",
    "    while i%2==0:\n",
    "        print(i)\n",
    "        i+=1"
   ]
  },
  {
   "cell_type": "code",
   "execution_count": 17,
   "id": "cdae21ee",
   "metadata": {},
   "outputs": [
    {
     "name": "stdout",
     "output_type": "stream",
     "text": [
      "25\n",
      "50\n",
      "75\n",
      "100\n",
      "125\n",
      "150\n",
      "175\n",
      "200\n",
      "225\n",
      "250\n",
      "275\n",
      "300\n",
      "325\n",
      "350\n",
      "375\n",
      "400\n",
      "425\n",
      "450\n",
      "475\n"
     ]
    }
   ],
   "source": [
    "for i in range(25,500,25):\n",
    "    print(i)"
   ]
  },
  {
   "cell_type": "code",
   "execution_count": 18,
   "id": "cf7f8609",
   "metadata": {},
   "outputs": [
    {
     "name": "stdout",
     "output_type": "stream",
     "text": [
      "25\n",
      "50\n",
      "75\n",
      "100\n",
      "125\n",
      "150\n",
      "175\n",
      "200\n",
      "225\n",
      "250\n",
      "275\n",
      "300\n",
      "325\n",
      "350\n",
      "375\n",
      "400\n",
      "425\n",
      "450\n",
      "475\n"
     ]
    }
   ],
   "source": [
    "i=25\n",
    "while i<500:\n",
    "    print(i)\n",
    "    i+=25"
   ]
  },
  {
   "cell_type": "code",
   "execution_count": 31,
   "id": "ca2bfd86",
   "metadata": {},
   "outputs": [
    {
     "name": "stdout",
     "output_type": "stream",
     "text": [
      "0 \n",
      "1 1 \n",
      "2 2 2 \n",
      "3 3 3 3 \n",
      "4 4 4 4 4 \n",
      "5 5 5 5 5 5 \n",
      "6 6 6 6 6 6 6 \n",
      "7 7 7 7 7 7 7 7 \n",
      "8 8 8 8 8 8 8 8 8 \n",
      "9 9 9 9 9 9 9 9 9 9 \n"
     ]
    }
   ],
   "source": [
    "for i in range(10):\n",
    "    for j in range (i+1):\n",
    "        print(i,end=' ')\n",
    "    print()"
   ]
  },
  {
   "cell_type": "code",
   "execution_count": 22,
   "id": "23de914d",
   "metadata": {},
   "outputs": [
    {
     "name": "stdout",
     "output_type": "stream",
     "text": [
      "15\n",
      "14\n",
      "13\n",
      "12\n",
      "11\n",
      "10\n",
      "9\n",
      "8\n"
     ]
    }
   ],
   "source": [
    "i = 15\n",
    "while i>=8:\n",
    "    print(i)\n",
    "    i-=1"
   ]
  },
  {
   "cell_type": "code",
   "execution_count": 25,
   "id": "5e879e83",
   "metadata": {},
   "outputs": [
    {
     "name": "stdout",
     "output_type": "stream",
     "text": [
      "15\n",
      "14\n",
      "13\n",
      "12\n",
      "11\n",
      "10\n",
      "9\n",
      "8\n"
     ]
    }
   ],
   "source": [
    "for i in range(15,7,-1):\n",
    "    print(i)"
   ]
  },
  {
   "cell_type": "markdown",
   "id": "f8172570",
   "metadata": {},
   "source": [
    "## Exercise 4 :Write a code for Sum of given numnber"
   ]
  },
  {
   "cell_type": "code",
   "execution_count": 24,
   "id": "26464956",
   "metadata": {},
   "outputs": [
    {
     "name": "stdout",
     "output_type": "stream",
     "text": [
      "Enter the Value of n: 4\n",
      "\n",
      "Sum = 10\n"
     ]
    }
   ],
   "source": [
    "class CodesCracker:\n",
    "  def SumOfN(self, k):\n",
    "    s = 0\n",
    "    for i in range(1, k+1):\n",
    "      s += i\n",
    "    return s\n",
    "\n",
    "print(\"Enter the Value of n: \", end=\"\")\n",
    "n = int(input())\n",
    "if n<0:\n",
    "  print(\"\\nInvalid Input!\")\n",
    "else:\n",
    "  ob = CodesCracker()\n",
    "  print(\"\\nSum =\", ob.SumOfN(n))"
   ]
  },
  {
   "cell_type": "markdown",
   "id": "588c9cab",
   "metadata": {},
   "source": [
    "### Exercise 5: Display numbers from -10 to -1 using for"
   ]
  },
  {
   "cell_type": "code",
   "execution_count": 22,
   "id": "9890f787",
   "metadata": {},
   "outputs": [
    {
     "name": "stdout",
     "output_type": "stream",
     "text": [
      "-10\n",
      "-9\n",
      "-8\n",
      "-7\n",
      "-6\n",
      "-5\n",
      "-4\n",
      "-3\n",
      "-2\n"
     ]
    }
   ],
   "source": [
    "for i in range (-10,-1):\n",
    "    print(i)"
   ]
  },
  {
   "cell_type": "code",
   "execution_count": 1,
   "id": "bb508a60",
   "metadata": {},
   "outputs": [],
   "source": [
    "import keyword"
   ]
  },
  {
   "cell_type": "code",
   "execution_count": 28,
   "id": "8d26f938",
   "metadata": {},
   "outputs": [
    {
     "name": "stdout",
     "output_type": "stream",
     "text": [
      "['False', 'None', 'True', '__peg_parser__', 'and', 'as', 'assert', 'async', 'await', 'break', 'class', 'continue', 'def', 'del', 'elif', 'else', 'except', 'finally', 'for', 'from', 'global', 'if', 'import', 'in', 'is', 'lambda', 'nonlocal', 'not', 'or', 'pass', 'raise', 'return', 'try', 'while', 'with', 'yield']\n"
     ]
    }
   ],
   "source": [
    "print(keyword.kwlist)"
   ]
  },
  {
   "cell_type": "code",
   "execution_count": 9,
   "id": "65a25680",
   "metadata": {},
   "outputs": [
    {
     "name": "stdout",
     "output_type": "stream",
     "text": [
      "Vivek\n",
      "Kadamm\n",
      "Incorrect Surname,Pleae Try Again\n",
      "Kadam\n",
      "Hiii, now u are in\n"
     ]
    }
   ],
   "source": [
    "name = input()\n",
    "surname = input()\n",
    "if name == \"Vivek\" and surname == \"Kadam\":\n",
    "    if name == type(int):\n",
    "        print('Type char only')\n",
    "        input(\"Enter your name again\")\n",
    "    else:\n",
    "            print(\"its okay\")\n",
    "    print(\"Hi,Vivek Kadam\")\n",
    "elif name == \"Vivek\" and surname != \"Kadam\":\n",
    "    print(\"Incorrect Surname,Pleae Try Again\")\n",
    "    surname = input()\n",
    "    if surname == \"Kadam\":\n",
    "        print('Hiii, now u are in')\n",
    "    else:\n",
    "        print('Surname wont match')\n",
    "else:\n",
    "    print(\"Hello Ajnabi\")"
   ]
  },
  {
   "cell_type": "code",
   "execution_count": 9,
   "id": "f88571c6",
   "metadata": {},
   "outputs": [
    {
     "data": {
      "text/plain": [
       "1.01"
      ]
     },
     "execution_count": 9,
     "metadata": {},
     "output_type": "execute_result"
    }
   ],
   "source": [
    "abs(-5.05/5)"
   ]
  },
  {
   "cell_type": "code",
   "execution_count": 10,
   "id": "fb9871eb",
   "metadata": {},
   "outputs": [
    {
     "data": {
      "text/plain": [
       "(0, 5)"
      ]
     },
     "execution_count": 10,
     "metadata": {},
     "output_type": "execute_result"
    }
   ],
   "source": [
    "divmod(5,10)"
   ]
  },
  {
   "cell_type": "code",
   "execution_count": 11,
   "id": "91833985",
   "metadata": {},
   "outputs": [
    {
     "data": {
      "text/plain": [
       "0"
      ]
     },
     "execution_count": 11,
     "metadata": {},
     "output_type": "execute_result"
    }
   ],
   "source": [
    "5//10"
   ]
  },
  {
   "cell_type": "code",
   "execution_count": 12,
   "id": "048687ee",
   "metadata": {},
   "outputs": [
    {
     "data": {
      "text/plain": [
       "5"
      ]
     },
     "execution_count": 12,
     "metadata": {},
     "output_type": "execute_result"
    }
   ],
   "source": [
    "5%10"
   ]
  },
  {
   "cell_type": "code",
   "execution_count": 2,
   "id": "940acde5",
   "metadata": {},
   "outputs": [],
   "source": [
    "import time"
   ]
  },
  {
   "cell_type": "code",
   "execution_count": 3,
   "id": "314aac32",
   "metadata": {},
   "outputs": [
    {
     "data": {
      "text/plain": [
       "1668586766.6503255"
      ]
     },
     "execution_count": 3,
     "metadata": {},
     "output_type": "execute_result"
    }
   ],
   "source": [
    "time.time()"
   ]
  },
  {
   "cell_type": "code",
   "execution_count": 4,
   "id": "ea085524",
   "metadata": {},
   "outputs": [
    {
     "data": {
      "text/plain": [
       "'Wed Nov 16 13:49:26 2022'"
      ]
     },
     "execution_count": 4,
     "metadata": {},
     "output_type": "execute_result"
    }
   ],
   "source": [
    "time.ctime()"
   ]
  },
  {
   "cell_type": "code",
   "execution_count": 5,
   "id": "e6684a28",
   "metadata": {},
   "outputs": [
    {
     "name": "stdout",
     "output_type": "stream",
     "text": [
      "Vivek\n",
      "Kadam\n"
     ]
    }
   ],
   "source": [
    "print('Vivek')\n",
    "time.sleep(2)\n",
    "print('Kadam')"
   ]
  },
  {
   "cell_type": "markdown",
   "id": "72aa781b",
   "metadata": {},
   "source": [
    "## Exercise 6 :Write a code for cubes for 1 to given numbers."
   ]
  },
  {
   "cell_type": "code",
   "execution_count": 20,
   "id": "5ccf293d",
   "metadata": {},
   "outputs": [
    {
     "name": "stdout",
     "output_type": "stream",
     "text": [
      "Enter the last number u want to get cubes 5\n",
      "1 1\n",
      "2 8\n",
      "3 27\n",
      "4 64\n",
      "5 125\n"
     ]
    }
   ],
   "source": [
    "def cube(x):\n",
    "    return x**3\n",
    "count = int(input('Enter the last number u want to get cubes '))\n",
    "for i in range(1,count+1):\n",
    "    print(icube(i))"
   ]
  },
  {
   "cell_type": "code",
   "execution_count": null,
   "id": "d3461e1c",
   "metadata": {},
   "outputs": [],
   "source": []
  }
 ],
 "metadata": {
  "celltoolbar": "Raw Cell Format",
  "kernelspec": {
   "display_name": "Python 3 (ipykernel)",
   "language": "python",
   "name": "python3"
  },
  "language_info": {
   "codemirror_mode": {
    "name": "ipython",
    "version": 3
   },
   "file_extension": ".py",
   "mimetype": "text/x-python",
   "name": "python",
   "nbconvert_exporter": "python",
   "pygments_lexer": "ipython3",
   "version": "3.9.7"
  }
 },
 "nbformat": 4,
 "nbformat_minor": 5
}
