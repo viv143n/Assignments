{
 "cells": [
  {
   "cell_type": "markdown",
   "id": "83243e1b",
   "metadata": {},
   "source": [
    "## 1. In the below elements which of them are values or an expression?\n",
    "eg:- values can be integer or string and expressions will be mathematical operators."
   ]
  },
  {
   "cell_type": "markdown",
   "id": "dc030f97",
   "metadata": {},
   "source": [
    "* 'hello'\n",
    "\n",
    "* -87.8\n",
    "\n",
    "* /\n",
    "\n",
    "*  6\n",
    "\n",
    "Ans :\n",
    "values are (-87.8 , 6,'hello')\n",
    "\n",
    "expressions are (* , - , + , /)"
   ]
  },
  {
   "cell_type": "markdown",
   "id": "339e1ef5",
   "metadata": {},
   "source": [
    "## 2. What is the difference between string and variable?"
   ]
  },
  {
   "cell_type": "markdown",
   "id": "b63766e8",
   "metadata": {},
   "source": [
    "Ans : \n",
    "* String are written inside single or double quotes \" \" and ' '.It can be any float,int,char,values.. \n",
    "* Variable are directly used without quotes(\" \", ' ') For storing values in it "
   ]
  },
  {
   "cell_type": "markdown",
   "id": "6cba1bb4",
   "metadata": {},
   "source": [
    "## 3. Describe three different data types."
   ]
  },
  {
   "cell_type": "markdown",
   "id": "adc0d93c",
   "metadata": {},
   "source": [
    "Ans:\n",
    "* Integer: This consists of only number without decimal points in it..ex-(1-9)etc\n",
    "* Float: Float means consists of decimal number its not a whole number ..ex(1.5,79.5642)etc\n",
    "* String: Which ever sentence or a word written inside double or single(\" \", ' ') quotes called as string.\n",
    "* Boolean: Boolean is nothing but a data type which shows true or false in as answer as expression.\n",
    "* Complex : Complex data type means it consists of int and char in it. ex(c = 3 +6j) "
   ]
  },
  {
   "cell_type": "markdown",
   "id": "20288f84",
   "metadata": {},
   "source": [
    "## 4. What is an expression made up of? What do all expressions do?"
   ]
  },
  {
   "cell_type": "markdown",
   "id": "4dc4445c",
   "metadata": {},
   "source": [
    "* expression is made up of operators(mathematical operators like + - etc) and operands (values on which operation is to be performed). Expression can be arithematic , boolean , constant etc.\n",
    "* Expression performs tasks on which they are defined on.\n",
    "* Example:   \n",
    "         a = 5 \n",
    "         b = 7\n",
    "         a + b = 12 , in which a + b can be called as expression."
   ]
  },
  {
   "cell_type": "markdown",
   "id": "bb966c92",
   "metadata": {},
   "source": [
    "## 6. After running the following code, what does the variable bacon contain?\n",
    "* bacon = 22 \n",
    "* bacon + 1\n",
    "* Ans:"
   ]
  },
  {
   "cell_type": "code",
   "execution_count": 6,
   "id": "4d32e50a",
   "metadata": {},
   "outputs": [
    {
     "data": {
      "text/plain": [
       "23"
      ]
     },
     "execution_count": 6,
     "metadata": {},
     "output_type": "execute_result"
    }
   ],
   "source": [
    "bacon = 22 \n",
    "bacon + 1\n",
    "#It gonna add bacon as 22 and bacon +1 means 22+1 = 23."
   ]
  },
  {
   "cell_type": "markdown",
   "id": "2fa5f26d",
   "metadata": {},
   "source": [
    "## 7. What should the values of the following two terms be? 'spam' + 'spamspam' , spam * 3\n",
    "* Ans:"
   ]
  },
  {
   "cell_type": "code",
   "execution_count": 8,
   "id": "c56a6a74",
   "metadata": {},
   "outputs": [
    {
     "data": {
      "text/plain": [
       "'spamspamspam'"
      ]
     },
     "execution_count": 8,
     "metadata": {},
     "output_type": "execute_result"
    }
   ],
   "source": [
    " 'spam' + 'spamspam'  #its will gonna add string +string ."
   ]
  },
  {
   "cell_type": "code",
   "execution_count": 11,
   "id": "4953635a",
   "metadata": {},
   "outputs": [
    {
     "data": {
      "text/plain": [
       "'spamspamspam'"
      ]
     },
     "execution_count": 11,
     "metadata": {},
     "output_type": "execute_result"
    }
   ],
   "source": [
    " 'spam' * 3  #Here it gonna multiply 3 times string and output will be as we can see below:"
   ]
  },
  {
   "cell_type": "markdown",
   "id": "915c8100",
   "metadata": {},
   "source": [
    "## 8. Why is eggs a valid variable name while 100 is invalid?"
   ]
  },
  {
   "cell_type": "markdown",
   "id": "c48606a9",
   "metadata": {},
   "source": [
    "* Ans:\n",
    "* 100 starts with an 1 its an integer where we cant say it as variable as per rule.\n",
    "* where eggs start with char we can say its an variable as per rule of variable assignment.\n",
    "* Example : First should be letter then only we can say it is as variable."
   ]
  },
  {
   "cell_type": "markdown",
   "id": "8122204d",
   "metadata": {},
   "source": [
    "## 9. What three functions can be used to get the integer, floating-point number, or string version of a value?"
   ]
  },
  {
   "cell_type": "markdown",
   "id": "c982cce7",
   "metadata": {},
   "source": [
    "* Ans:\n",
    "* We used int() for integer.\n",
    "* We use float() for float.\n",
    "* We use str() for string."
   ]
  },
  {
   "cell_type": "markdown",
   "id": "5cde7395",
   "metadata": {},
   "source": [
    "## 10. Why does this expression cause an error? How can you fix it? 'I have eaten'+ 99 + 'burritos.'\n",
    "* Ans\n",
    "'I have eaten'+ 99 + 'burritos.'\n",
    "* In this we cant print + 99 + cause its and operator with int we can print with string as per rule.\n",
    "* For printing it we must need to replace ' + ' with ' , ' then only we can print it . \n"
   ]
  },
  {
   "cell_type": "code",
   "execution_count": 26,
   "id": "9431daaa",
   "metadata": {},
   "outputs": [
    {
     "name": "stdout",
     "output_type": "stream",
     "text": [
      "I have eaten 99 burritos.\n"
     ]
    }
   ],
   "source": [
    "print('I have eaten',99,'burritos.')"
   ]
  }
 ],
 "metadata": {
  "kernelspec": {
   "display_name": "Python 3 (ipykernel)",
   "language": "python",
   "name": "python3"
  },
  "language_info": {
   "codemirror_mode": {
    "name": "ipython",
    "version": 3
   },
   "file_extension": ".py",
   "mimetype": "text/x-python",
   "name": "python",
   "nbconvert_exporter": "python",
   "pygments_lexer": "ipython3",
   "version": "3.9.7"
  }
 },
 "nbformat": 4,
 "nbformat_minor": 5
}
